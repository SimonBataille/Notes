print('hello world')


revenus = [1800, 1500, 2200, 3000, 2172]


import numpy as np


import pandas as pd



revenus_array = np.array(revenus)
revenus_array
# array([1800, 1500, 2200, 3000, 2172])


revenus_array.dtype


revenus_array[1:3]


revenus_array[::-1]


b = np.array([[[1, 2],[4, 5]],

        [[6, 7],[8, 9]],

        [[10, 11],[12, 13]]])


b.shape



b[2, 1, :]



c = b.reshape([2, 2, 3])


c


clients_csv = pd.read_csv('P2C1_clients/clients.csv')
clients_csv.head()



clients_csv.shape
clients_csv.dtypes


data_array = clients_csv.values
#display(data_array)


emails = clients_csv['email']


emails


type(clients_csv[['email', 'nom']])


type(clients_csv['email'])


notes = pd.read_csv('notes.csv')


moyennes = notes.groupby('nom')['note'].mean().reset_index(name='moyenne')
print(moyennes)


moyennes.loc[moyennes['moyenne'] < 10, :].shape[0]


produits = pd.read_csv('csv_P2_quizz/produits.csv')


commandes = pd.read_csv('csv_P2_quizz/commande.csv')


produits.head()



commandes.head()


data = pd.merge(commandes, produits, on='id', how='inner')


data.head()


data['CA'] = data['nombre'] * data['prix']


data.head()


data_grouped = data.groupby('id').sum()


data_grouped.head()





prets = pd.read_csv('prets.csv')


prets.head()


prets.rename(columns={'taux': 'taux_interet'}, inplace=True)


prets['taux_endettement'] = round(prets['remboursement'] * 100 / prets['revenu'], 2)


prets.head()


prets['cout_total'] = prets['remboursement'] * prets['duree']
prets['benefices'] = round((prets['cout_total'] * prets['taux_interet']/100)/(24), 2)


prets.head()


prets.sort_values('benefices', ascending=False).head()


prets.index


client_risque = prets.loc[prets['taux_endettement'] > 35, :]
client_risque.head()
client_risque_paris = prets.loc[(prets['taux_endettement'] > 35) & (prets['ville'] == 'PARIS'), :]
client_risque_paris.head()
prets['risque'] = 'Non'
prets.loc[prets['taux_endettement'] > 35, 'risque'] = 'Oui'


print(prets.loc[prets['type'] == 'automobile', :].shape[0])
print(prets.loc[prets['type'] == 'automobile', 'cout_total'].mean())


print(prets.loc[prets['ville'] == 'TOULOUSE', 'benefices'].sum())


prets.groupby(['ville', 'type']).sum()





prets.groupby(['ville', 'type']).agg({'remboursement': ['sum', 'mean'],
    'revenu': 'max'})





data = prets.pivot_table(index='ville', columns='type', values='remboursement', aggfunc='sum')
data = data.reset_index()
data





data.melt(id_vars='ville', value_vars=['automobile', 'immobilier'])


profil_client = prets.groupby('identifiant')[['remboursement', 'taux_endettement', 'cout_total', 'benefices']].sum()
profil_client.loc[profil_client['taux_endettement'] > 35, :].shape[0]


prets.groupby(['ville', 'type'])['benefices'].sum()


prets.pivot_table(index='ville', columns='type', values='benefices', aggfunc='mean')


client_1 = pd.read_csv('clients.csv')


client_2 = pd.read_csv('clients_suite.csv')


client_1.head()


client_2.head()


clients = pd.concat([client_1, client_2], ignore_index=True)


clients.head()


data = pd.merge(clients, profil_client, left_on='identifiant', right_on='identifiant', how='inner')


clients_age = pd.read_csv('client_age.csv')
clients_age.head()


pd.merge(data, clients_age, on='identifiant', how='left')





import matplotlib.pyplot as plt


plt.scatter(prets['revenu'], prets['taux_endettement'])


data = prets.groupby('ville')['remboursement'].sum()
data = data.reset_index()
plt.pie(x=data['remboursement'], labels=data['ville'])


plt.bar(height=data['remboursement'], x=data['ville'])


plt.hist(prets['revenu'])


for ville in prets['ville'].unique():
    df = prets.loc[prets['ville'] == ville, :]
    plt.scatter(df['revenu'], df['taux_interet'], label=ville)
plt.legend()
plt.show()


plt.figure(figsize=(10, 7))
plt.bar(height=data['remboursement'], x=data['ville'])
plt.ylabel('Chiffre d''affaire net (€)', fontsize=13)
plt.yticks([0, 30000, 60000, 90000], fontsize=11)
plt.ylim(0, 120000)
plt.title("Chiffre d'affaire réalisé par agence", fontsize=14)
plt.grid(axis='y', color='gray', linestyle='-', linewidth=0.5)

ca=data['remboursement'].tolist()
for i in range(6):
    plt.text(i-0.2, ca[i]+2000, round(ca[i], 1))

plt.show()





import seaborn as sns
sns.scatterplot(data=prets, x='revenu', y='taux_endettement', hue='type')


plt.figure(figsize=(10,6))

plt.rcParams.update({'font.size': 14})

sns.scatterplot(data=prets, x='revenu', y='taux_endettement', hue='type')

plt.ylabel("Taux d'endettement")

plt.xlabel('Revenu mensuel (€)')

plt.grid()

plt.xlim(500, 7500)

plt.legend(bbox_to_anchor=(1, 1.02))

plt.title("Taux d'endettement en fonction du revenu mensuel\npar type de prêt contracté")

plt.show()


sns.set_theme()
sns.barplot(data=prets, x='ville', y='remboursement', errorbar=None, estimator=np.mean, hue='type')


sns.countplot(data=prets, x='type')
plt.show()


sns.scatterplot(data=prets, x='revenu', y='benefices', hue='ville')
plt.show()


sns.barplot(data=prets, x='ville', y='benefices', errorbar=None, hue='type', estimator=sum)
plt.show()


# histogramme :
sns.histplot(data=prets, x='benefices')
plt.show()

# diagramme à densité :
sns.kdeplot(data=prets, x='benefices')
plt.show()


# Filtrer pour exclure les lignes où le type est 'automobile'
prets_filtre = prets[prets['type'] != 'automobile']

# Créer le graphique avec le DataFrame filtré
sns.barplot(data=prets_filtre, x='ville', y='benefices', errorbar=None, hue='type', estimator=sum)




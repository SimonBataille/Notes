{
  "cells": [
    {
      "cell_type": "markdown",
      "metadata": {
        "id": "ZUPeTG8Z682h"
      },
      "source": [
        "²"
      ]
    },
    {
      "cell_type": "code",
      "execution_count": null,
      "metadata": {
        "id": "PvLeCt3G682p"
      },
      "outputs": [],
      "source": [
        "import random\n",
        "\n",
        "def pieceJeuA():\n",
        "    if random.uniform(0,1) <= 0.49:\n",
        "        return 'pile'\n",
        "    else:\n",
        "        return 'face'\n",
        "\n",
        "def pieceJeuB1():\n",
        "    if random.uniform(0,1) <= 0.09:\n",
        "        return 'pile'\n",
        "    else:\n",
        "        return 'face'\n",
        "\n",
        "def pieceJeuB2():\n",
        "    if random.random() <= 0.74:\n",
        "        return 'pile'\n",
        "    else:\n",
        "        return 'face'"
      ]
    },
    {
      "cell_type": "markdown",
      "metadata": {
        "id": "Q8bIz2KP682t"
      },
      "source": [
        "Test du jeu A :"
      ]
    },
    {
      "cell_type": "code",
      "execution_count": null,
      "metadata": {
        "id": "CbOH5iEX682z",
        "outputId": "4702b84e-d82f-429c-8b90-28595f21d9fa"
      },
      "outputs": [
        {
          "name": "stdout",
          "output_type": "stream",
          "text": [
            "Après 10000 lancés, on a 710 € de capital\n"
          ]
        }
      ],
      "source": [
        "capital = 1000\n",
        "nb_lances = 10000\n",
        "\n",
        "for i in range(nb_lances):\n",
        "    piece = pieceJeuA()\n",
        "    if piece == 'pile':\n",
        "        capital += 1  # on gagne 1 euro si on a pile\n",
        "    else:\n",
        "        capital -= 1  # on perd 1 euro sinon\n",
        "\n",
        "print(\"Après\", nb_lances, \"lancés, on a\", capital, \"€ de capital\")"
      ]
    },
    {
      "cell_type": "markdown",
      "metadata": {
        "id": "t7LWq1i_6823"
      },
      "source": [
        "Vous pouvez executer le code plusieurs fois pour en avoir le coeur net (voire augmenter le nombre de lancés), mais vous finirez toujours avec un capital final plus faible que le capital initial : **le jeu A est clairement perdant !**\n",
        "\n",
        "Voyons à présent ce qu'il en est du jeu B :"
      ]
    },
    {
      "cell_type": "code",
      "execution_count": null,
      "metadata": {
        "id": "AGd8bAKT6826",
        "outputId": "08f424a7-6e6f-4e3a-df6c-d66f02776306"
      },
      "outputs": [
        {
          "name": "stdout",
          "output_type": "stream",
          "text": [
            "Après 10000 lancés, on a 762 € de capital\n"
          ]
        }
      ],
      "source": [
        "capital = 1000\n",
        "nb_lances = 10000\n",
        "\n",
        "for i in range(nb_lances):\n",
        "    if capital % 3 == 0:  # on vérifie si le capital est un multiple de 3 ou non\n",
        "        piece = pieceJeuB1()\n",
        "    else:\n",
        "        piece = pieceJeuB2()\n",
        "\n",
        "    if piece == 'pile':\n",
        "        capital += 1  # on gagne 1 euro si on a pile\n",
        "    else:\n",
        "        capital -= 1  # on perd 1 euro sinon\n",
        "\n",
        "print(\"Après\", nb_lances, \"lancés, on a\", capital, \"€ de capital\")"
      ]
    },
    {
      "cell_type": "markdown",
      "metadata": {
        "id": "xyF-kSYc682-"
      },
      "source": [
        "Encore une fois, vous pouvez executer le code plusieurs fois pour en avoir le coeur net (voire augmenter le nombre de lancés), mais vous finirez toujours avec un capital final plus faible que le capital initial : **le jeu B est également perdant !**\n",
        "\n",
        "Ainsi, la bonne réponse était donc : **les deux jeux sont perdants !**"
      ]
    },
    {
      "cell_type": "code",
      "execution_count": null,
      "metadata": {
        "id": "6qc0GU39682_"
      },
      "outputs": [],
      "source": []
    }
  ],
  "metadata": {
    "kernelspec": {
      "display_name": "Python 3",
      "language": "python",
      "name": "python3"
    },
    "language_info": {
      "codemirror_mode": {
        "name": "ipython",
        "version": 3
      },
      "file_extension": ".py",
      "mimetype": "text/x-python",
      "name": "python",
      "nbconvert_exporter": "python",
      "pygments_lexer": "ipython3",
      "version": "3.8.5"
    },
    "colab": {
      "provenance": []
    }
  },
  "nbformat": 4,
  "nbformat_minor": 0
}
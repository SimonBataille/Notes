{
 "cells": [
  {
   "cell_type": "code",
   "execution_count": 3,
   "id": "97568d9d-1567-4064-84eb-5183866b55ea",
   "metadata": {},
   "outputs": [
    {
     "name": "stdout",
     "output_type": "stream",
     "text": [
      "hello world\n"
     ]
    }
   ],
   "source": [
    "print('hello world')"
   ]
  },
  {
   "cell_type": "code",
   "execution_count": 5,
   "id": "d9b03819-d895-4465-9e07-ccda0218e2da",
   "metadata": {},
   "outputs": [],
   "source": [
    "revenus = [1800, 1500, 2200, 3000, 2172]"
   ]
  },
  {
   "cell_type": "code",
   "execution_count": 56,
   "id": "7b63e423-e815-48a1-a15e-6137ac6bac39",
   "metadata": {},
   "outputs": [],
   "source": [
    "import numpy as np"
   ]
  },
  {
   "cell_type": "code",
   "execution_count": 54,
   "id": "4af8eacc-ad82-460f-aa28-59105ac5e762",
   "metadata": {},
   "outputs": [],
   "source": [
    "import pandas as pd\n"
   ]
  },
  {
   "cell_type": "code",
   "execution_count": 11,
   "id": "eb393cc4-b865-4e5b-bf28-d6024c2e6025",
   "metadata": {},
   "outputs": [
    {
     "data": {
      "text/plain": [
       "array([1800, 1500, 2200, 3000, 2172])"
      ]
     },
     "execution_count": 11,
     "metadata": {},
     "output_type": "execute_result"
    }
   ],
   "source": [
    "revenus_array = np.array(revenus)\n",
    "revenus_array\n",
    "# array([1800, 1500, 2200, 3000, 2172])"
   ]
  },
  {
   "cell_type": "code",
   "execution_count": 13,
   "id": "bea483c6-ffc8-4137-95cd-8d6738989112",
   "metadata": {},
   "outputs": [
    {
     "data": {
      "text/plain": [
       "dtype('int64')"
      ]
     },
     "execution_count": 13,
     "metadata": {},
     "output_type": "execute_result"
    }
   ],
   "source": [
    "revenus_array.dtype"
   ]
  },
  {
   "cell_type": "code",
   "execution_count": 15,
   "id": "340728dd-50c9-4cf3-885e-3a07578ea404",
   "metadata": {},
   "outputs": [
    {
     "data": {
      "text/plain": [
       "array([1500, 2200])"
      ]
     },
     "execution_count": 15,
     "metadata": {},
     "output_type": "execute_result"
    }
   ],
   "source": [
    "revenus_array[1:3]"
   ]
  },
  {
   "cell_type": "code",
   "execution_count": 17,
   "id": "3a61f94b-c0c0-4008-b030-ad5150adc8f4",
   "metadata": {},
   "outputs": [
    {
     "data": {
      "text/plain": [
       "array([2172, 3000, 2200, 1500, 1800])"
      ]
     },
     "execution_count": 17,
     "metadata": {},
     "output_type": "execute_result"
    }
   ],
   "source": [
    "revenus_array[::-1]"
   ]
  },
  {
   "cell_type": "code",
   "execution_count": 8,
   "id": "7faf8b3e-b00a-4dde-9e06-c58925ecad23",
   "metadata": {},
   "outputs": [],
   "source": [
    "b = np.array([[[1, 2],[4, 5]],\n",
    "\n",
    "        [[6, 7],[8, 9]],\n",
    "\n",
    "        [[10, 11],[12, 13]]])"
   ]
  },
  {
   "cell_type": "code",
   "execution_count": 38,
   "id": "e7dd4546-78dc-459b-8791-7a916c6091da",
   "metadata": {},
   "outputs": [
    {
     "data": {
      "text/plain": [
       "(3, 2, 2)"
      ]
     },
     "execution_count": 38,
     "metadata": {},
     "output_type": "execute_result"
    }
   ],
   "source": [
    "b.shape\n"
   ]
  },
  {
   "cell_type": "code",
   "execution_count": 20,
   "id": "2158c56b-4620-4997-b522-64dba47eef29",
   "metadata": {},
   "outputs": [
    {
     "data": {
      "text/plain": [
       "array([12, 13])"
      ]
     },
     "execution_count": 20,
     "metadata": {},
     "output_type": "execute_result"
    }
   ],
   "source": [
    "b[2, 1, :]\n"
   ]
  },
  {
   "cell_type": "code",
   "execution_count": 40,
   "id": "859aa1ff-4282-43de-8f04-1bb6ceb9f557",
   "metadata": {},
   "outputs": [],
   "source": [
    "c = b.reshape([2, 2, 3])"
   ]
  },
  {
   "cell_type": "code",
   "execution_count": 42,
   "id": "b4127854-1fdd-4015-a06b-66d19b3c1aef",
   "metadata": {},
   "outputs": [
    {
     "data": {
      "text/plain": [
       "array([[[ 1,  2,  4],\n",
       "        [ 5,  6,  7]],\n",
       "\n",
       "       [[ 8,  9, 10],\n",
       "        [11, 12, 13]]])"
      ]
     },
     "execution_count": 42,
     "metadata": {},
     "output_type": "execute_result"
    }
   ],
   "source": [
    "c"
   ]
  },
  {
   "cell_type": "code",
   "execution_count": 46,
   "id": "2557ed5f-8392-4a13-8148-68033b1632e2",
   "metadata": {},
   "outputs": [
    {
     "data": {
      "text/html": [
       "<div>\n",
       "<style scoped>\n",
       "    .dataframe tbody tr th:only-of-type {\n",
       "        vertical-align: middle;\n",
       "    }\n",
       "\n",
       "    .dataframe tbody tr th {\n",
       "        vertical-align: top;\n",
       "    }\n",
       "\n",
       "    .dataframe thead th {\n",
       "        text-align: right;\n",
       "    }\n",
       "</style>\n",
       "<table border=\"1\" class=\"dataframe\">\n",
       "  <thead>\n",
       "    <tr style=\"text-align: right;\">\n",
       "      <th></th>\n",
       "      <th>identifiant</th>\n",
       "      <th>email</th>\n",
       "      <th>nom</th>\n",
       "      <th>genre</th>\n",
       "    </tr>\n",
       "  </thead>\n",
       "  <tbody>\n",
       "    <tr>\n",
       "      <th>0</th>\n",
       "      <td>0</td>\n",
       "      <td>LaurentDagenais@rhyta.com</td>\n",
       "      <td>Laurent Dagenais</td>\n",
       "      <td>M</td>\n",
       "    </tr>\n",
       "    <tr>\n",
       "      <th>1</th>\n",
       "      <td>1</td>\n",
       "      <td>GuyMarois@fleckens.hu</td>\n",
       "      <td>Guy Marois</td>\n",
       "      <td>M</td>\n",
       "    </tr>\n",
       "    <tr>\n",
       "      <th>2</th>\n",
       "      <td>2</td>\n",
       "      <td>BeaufortLesage@einrot.com</td>\n",
       "      <td>Beaufort Lesage</td>\n",
       "      <td>M</td>\n",
       "    </tr>\n",
       "    <tr>\n",
       "      <th>3</th>\n",
       "      <td>3</td>\n",
       "      <td>RussellDurand@armyspy.com</td>\n",
       "      <td>Russell Durand</td>\n",
       "      <td>M</td>\n",
       "    </tr>\n",
       "    <tr>\n",
       "      <th>4</th>\n",
       "      <td>4</td>\n",
       "      <td>AlexisRiel@rhyta.com</td>\n",
       "      <td>Alexis Riel</td>\n",
       "      <td>M</td>\n",
       "    </tr>\n",
       "  </tbody>\n",
       "</table>\n",
       "</div>"
      ],
      "text/plain": [
       "   identifiant                      email               nom genre\n",
       "0            0  LaurentDagenais@rhyta.com  Laurent Dagenais     M\n",
       "1            1      GuyMarois@fleckens.hu        Guy Marois     M\n",
       "2            2  BeaufortLesage@einrot.com   Beaufort Lesage     M\n",
       "3            3  RussellDurand@armyspy.com    Russell Durand     M\n",
       "4            4       AlexisRiel@rhyta.com       Alexis Riel     M"
      ]
     },
     "execution_count": 46,
     "metadata": {},
     "output_type": "execute_result"
    }
   ],
   "source": [
    "clients_csv = pd.read_csv('P2C1_clients/clients.csv')\n",
    "clients_csv.head()\n"
   ]
  },
  {
   "cell_type": "code",
   "execution_count": 17,
   "id": "922f5b56-29a5-4ffd-abaa-881391b21b22",
   "metadata": {},
   "outputs": [
    {
     "data": {
      "text/plain": [
       "identifiant     int64\n",
       "email          object\n",
       "nom            object\n",
       "genre          object\n",
       "dtype: object"
      ]
     },
     "execution_count": 17,
     "metadata": {},
     "output_type": "execute_result"
    }
   ],
   "source": [
    "clients_csv.shape\n",
    "clients_csv.dtypes"
   ]
  },
  {
   "cell_type": "code",
   "execution_count": 29,
   "id": "f2a8af98-7bd4-4260-8100-052b6a4d5516",
   "metadata": {},
   "outputs": [],
   "source": [
    "data_array = clients_csv.values\n",
    "#display(data_array)"
   ]
  },
  {
   "cell_type": "code",
   "execution_count": 25,
   "id": "6bdc0e00-2cd7-4087-89dd-62b85c887809",
   "metadata": {},
   "outputs": [],
   "source": [
    "emails = clients_csv['email']"
   ]
  },
  {
   "cell_type": "code",
   "execution_count": 27,
   "id": "215b3f2c-efbe-4496-bf14-e82708764c67",
   "metadata": {},
   "outputs": [
    {
     "data": {
      "text/plain": [
       "0            LaurentDagenais@rhyta.com\n",
       "1                GuyMarois@fleckens.hu\n",
       "2            BeaufortLesage@einrot.com\n",
       "3            RussellDurand@armyspy.com\n",
       "4                 AlexisRiel@rhyta.com\n",
       "                    ...               \n",
       "223    ClaudeDandonneau@jourrapide.com\n",
       "224      ApollineMichaud@superrito.com\n",
       "225         PascalineBeaudry@rhyta.com\n",
       "226       FleurCaouette@jourrapide.com\n",
       "227        FrancisMasse@jourrapide.com\n",
       "Name: email, Length: 228, dtype: object"
      ]
     },
     "execution_count": 27,
     "metadata": {},
     "output_type": "execute_result"
    }
   ],
   "source": [
    "emails"
   ]
  },
  {
   "cell_type": "code",
   "execution_count": 33,
   "id": "b81f0780-ea40-492f-97a5-e13ef325cf78",
   "metadata": {},
   "outputs": [
    {
     "data": {
      "text/plain": [
       "pandas.core.frame.DataFrame"
      ]
     },
     "execution_count": 33,
     "metadata": {},
     "output_type": "execute_result"
    }
   ],
   "source": [
    "type(clients_csv[['email', 'nom']])"
   ]
  },
  {
   "cell_type": "code",
   "execution_count": 35,
   "id": "24218d1f-14bf-4c97-9c28-89856a298d6d",
   "metadata": {},
   "outputs": [
    {
     "data": {
      "text/plain": [
       "pandas.core.series.Series"
      ]
     },
     "execution_count": 35,
     "metadata": {},
     "output_type": "execute_result"
    }
   ],
   "source": [
    "type(clients_csv['email'])"
   ]
  },
  {
   "cell_type": "code",
   "execution_count": 176,
   "id": "37b543ca-c4f3-41fc-affe-ab7368597c7a",
   "metadata": {},
   "outputs": [],
   "source": [
    "notes = pd.read_csv('notes.csv')"
   ]
  },
  {
   "cell_type": "code",
   "execution_count": 180,
   "id": "88583371-e5e4-4535-8193-416ada01c40f",
   "metadata": {},
   "outputs": [
    {
     "name": "stdout",
     "output_type": "stream",
     "text": [
      "                   nom  moyenne\n",
      "0       Aceline Hughes    12.50\n",
      "1      Agate Grandbois    14.25\n",
      "2       Agramant Pepin    14.25\n",
      "3     Agrican Foucault    11.50\n",
      "4   Aiglentina Lambert     8.50\n",
      "5          Alexis Riel     9.00\n",
      "6        Amaury Reault     8.50\n",
      "7      Beaufort Lesage    12.25\n",
      "8       Byron Lefebvre    13.75\n",
      "9       Dorothee Aupry    14.75\n",
      "10        Florus Devoe    13.75\n",
      "11     Gaston Brisette    13.50\n",
      "12          Guy Marois    12.25\n",
      "13    Laurent Dagenais    13.25\n",
      "14       Leon Lapresse    12.25\n",
      "15   Normand Arsenault    10.50\n",
      "16    Orville Routhier     8.25\n",
      "17  Prunella Josseaume    12.50\n",
      "18      Russell Durand     8.50\n",
      "19     Theodore Clavet     9.50\n",
      "20      Yseult Charest    11.50\n"
     ]
    }
   ],
   "source": [
    "moyennes = notes.groupby('nom')['note'].mean().reset_index(name='moyenne')\n",
    "print(moyennes)"
   ]
  },
  {
   "cell_type": "code",
   "execution_count": 182,
   "id": "bfcdd5dd-30c3-4eec-882b-31ec2945444f",
   "metadata": {},
   "outputs": [
    {
     "data": {
      "text/plain": [
       "6"
      ]
     },
     "execution_count": 182,
     "metadata": {},
     "output_type": "execute_result"
    }
   ],
   "source": [
    "moyennes.loc[moyennes['moyenne'] < 10, :].shape[0]"
   ]
  },
  {
   "cell_type": "code",
   "execution_count": 75,
   "id": "550869c3-4276-4e97-9b32-14e510028af8",
   "metadata": {},
   "outputs": [],
   "source": [
    "produits = pd.read_csv('csv_P2_quizz/produits.csv')"
   ]
  },
  {
   "cell_type": "code",
   "execution_count": 79,
   "id": "4cbea8e7-cc33-43c5-bbb7-dab55cab67e2",
   "metadata": {},
   "outputs": [],
   "source": [
    "commandes = pd.read_csv('csv_P2_quizz/commande.csv')"
   ]
  },
  {
   "cell_type": "code",
   "execution_count": 85,
   "id": "2f2bd442-1410-4199-b3e5-e842f3fb61bf",
   "metadata": {},
   "outputs": [
    {
     "data": {
      "text/html": [
       "<div>\n",
       "<style scoped>\n",
       "    .dataframe tbody tr th:only-of-type {\n",
       "        vertical-align: middle;\n",
       "    }\n",
       "\n",
       "    .dataframe tbody tr th {\n",
       "        vertical-align: top;\n",
       "    }\n",
       "\n",
       "    .dataframe thead th {\n",
       "        text-align: right;\n",
       "    }\n",
       "</style>\n",
       "<table border=\"1\" class=\"dataframe\">\n",
       "  <thead>\n",
       "    <tr style=\"text-align: right;\">\n",
       "      <th></th>\n",
       "      <th>id</th>\n",
       "      <th>prix</th>\n",
       "    </tr>\n",
       "  </thead>\n",
       "  <tbody>\n",
       "    <tr>\n",
       "      <th>0</th>\n",
       "      <td>0</td>\n",
       "      <td>24.8</td>\n",
       "    </tr>\n",
       "    <tr>\n",
       "      <th>1</th>\n",
       "      <td>1</td>\n",
       "      <td>13.1</td>\n",
       "    </tr>\n",
       "    <tr>\n",
       "      <th>2</th>\n",
       "      <td>2</td>\n",
       "      <td>23.7</td>\n",
       "    </tr>\n",
       "    <tr>\n",
       "      <th>3</th>\n",
       "      <td>3</td>\n",
       "      <td>16.0</td>\n",
       "    </tr>\n",
       "    <tr>\n",
       "      <th>4</th>\n",
       "      <td>4</td>\n",
       "      <td>19.0</td>\n",
       "    </tr>\n",
       "  </tbody>\n",
       "</table>\n",
       "</div>"
      ],
      "text/plain": [
       "   id  prix\n",
       "0   0  24.8\n",
       "1   1  13.1\n",
       "2   2  23.7\n",
       "3   3  16.0\n",
       "4   4  19.0"
      ]
     },
     "execution_count": 85,
     "metadata": {},
     "output_type": "execute_result"
    }
   ],
   "source": [
    "produits.head()\n"
   ]
  },
  {
   "cell_type": "code",
   "execution_count": 87,
   "id": "29c44298-e60e-4e43-a34c-8771f5733720",
   "metadata": {},
   "outputs": [
    {
     "data": {
      "text/html": [
       "<div>\n",
       "<style scoped>\n",
       "    .dataframe tbody tr th:only-of-type {\n",
       "        vertical-align: middle;\n",
       "    }\n",
       "\n",
       "    .dataframe tbody tr th {\n",
       "        vertical-align: top;\n",
       "    }\n",
       "\n",
       "    .dataframe thead th {\n",
       "        text-align: right;\n",
       "    }\n",
       "</style>\n",
       "<table border=\"1\" class=\"dataframe\">\n",
       "  <thead>\n",
       "    <tr style=\"text-align: right;\">\n",
       "      <th></th>\n",
       "      <th>id</th>\n",
       "      <th>nombre</th>\n",
       "    </tr>\n",
       "  </thead>\n",
       "  <tbody>\n",
       "    <tr>\n",
       "      <th>0</th>\n",
       "      <td>70</td>\n",
       "      <td>2</td>\n",
       "    </tr>\n",
       "    <tr>\n",
       "      <th>1</th>\n",
       "      <td>41</td>\n",
       "      <td>4</td>\n",
       "    </tr>\n",
       "    <tr>\n",
       "      <th>2</th>\n",
       "      <td>72</td>\n",
       "      <td>2</td>\n",
       "    </tr>\n",
       "    <tr>\n",
       "      <th>3</th>\n",
       "      <td>92</td>\n",
       "      <td>8</td>\n",
       "    </tr>\n",
       "    <tr>\n",
       "      <th>4</th>\n",
       "      <td>73</td>\n",
       "      <td>1</td>\n",
       "    </tr>\n",
       "  </tbody>\n",
       "</table>\n",
       "</div>"
      ],
      "text/plain": [
       "   id  nombre\n",
       "0  70       2\n",
       "1  41       4\n",
       "2  72       2\n",
       "3  92       8\n",
       "4  73       1"
      ]
     },
     "execution_count": 87,
     "metadata": {},
     "output_type": "execute_result"
    }
   ],
   "source": [
    "commandes.head()"
   ]
  },
  {
   "cell_type": "code",
   "execution_count": 91,
   "id": "52370fd9-4491-478a-8a56-fe9b0774cfc1",
   "metadata": {},
   "outputs": [],
   "source": [
    "data = pd.merge(commandes, produits, on='id', how='inner')"
   ]
  },
  {
   "cell_type": "code",
   "execution_count": 93,
   "id": "47752729-2384-4a8d-bfca-d4f92da36bde",
   "metadata": {},
   "outputs": [
    {
     "data": {
      "text/html": [
       "<div>\n",
       "<style scoped>\n",
       "    .dataframe tbody tr th:only-of-type {\n",
       "        vertical-align: middle;\n",
       "    }\n",
       "\n",
       "    .dataframe tbody tr th {\n",
       "        vertical-align: top;\n",
       "    }\n",
       "\n",
       "    .dataframe thead th {\n",
       "        text-align: right;\n",
       "    }\n",
       "</style>\n",
       "<table border=\"1\" class=\"dataframe\">\n",
       "  <thead>\n",
       "    <tr style=\"text-align: right;\">\n",
       "      <th></th>\n",
       "      <th>id</th>\n",
       "      <th>nombre</th>\n",
       "      <th>prix</th>\n",
       "    </tr>\n",
       "  </thead>\n",
       "  <tbody>\n",
       "    <tr>\n",
       "      <th>0</th>\n",
       "      <td>70</td>\n",
       "      <td>2</td>\n",
       "      <td>17.6</td>\n",
       "    </tr>\n",
       "    <tr>\n",
       "      <th>1</th>\n",
       "      <td>41</td>\n",
       "      <td>4</td>\n",
       "      <td>20.7</td>\n",
       "    </tr>\n",
       "    <tr>\n",
       "      <th>2</th>\n",
       "      <td>72</td>\n",
       "      <td>2</td>\n",
       "      <td>14.9</td>\n",
       "    </tr>\n",
       "    <tr>\n",
       "      <th>3</th>\n",
       "      <td>92</td>\n",
       "      <td>8</td>\n",
       "      <td>7.4</td>\n",
       "    </tr>\n",
       "    <tr>\n",
       "      <th>4</th>\n",
       "      <td>73</td>\n",
       "      <td>1</td>\n",
       "      <td>22.5</td>\n",
       "    </tr>\n",
       "  </tbody>\n",
       "</table>\n",
       "</div>"
      ],
      "text/plain": [
       "   id  nombre  prix\n",
       "0  70       2  17.6\n",
       "1  41       4  20.7\n",
       "2  72       2  14.9\n",
       "3  92       8   7.4\n",
       "4  73       1  22.5"
      ]
     },
     "execution_count": 93,
     "metadata": {},
     "output_type": "execute_result"
    }
   ],
   "source": [
    "data.head()"
   ]
  },
  {
   "cell_type": "code",
   "execution_count": 95,
   "id": "5f164fbe-f91a-4ec5-8e47-9310548f0e0c",
   "metadata": {},
   "outputs": [],
   "source": [
    "data['CA'] = data['nombre'] * data['prix']"
   ]
  },
  {
   "cell_type": "code",
   "execution_count": 97,
   "id": "b06bddab-12eb-4e16-8513-64e50f86425c",
   "metadata": {},
   "outputs": [
    {
     "data": {
      "text/html": [
       "<div>\n",
       "<style scoped>\n",
       "    .dataframe tbody tr th:only-of-type {\n",
       "        vertical-align: middle;\n",
       "    }\n",
       "\n",
       "    .dataframe tbody tr th {\n",
       "        vertical-align: top;\n",
       "    }\n",
       "\n",
       "    .dataframe thead th {\n",
       "        text-align: right;\n",
       "    }\n",
       "</style>\n",
       "<table border=\"1\" class=\"dataframe\">\n",
       "  <thead>\n",
       "    <tr style=\"text-align: right;\">\n",
       "      <th></th>\n",
       "      <th>id</th>\n",
       "      <th>nombre</th>\n",
       "      <th>prix</th>\n",
       "      <th>CA</th>\n",
       "    </tr>\n",
       "  </thead>\n",
       "  <tbody>\n",
       "    <tr>\n",
       "      <th>0</th>\n",
       "      <td>70</td>\n",
       "      <td>2</td>\n",
       "      <td>17.6</td>\n",
       "      <td>35.2</td>\n",
       "    </tr>\n",
       "    <tr>\n",
       "      <th>1</th>\n",
       "      <td>41</td>\n",
       "      <td>4</td>\n",
       "      <td>20.7</td>\n",
       "      <td>82.8</td>\n",
       "    </tr>\n",
       "    <tr>\n",
       "      <th>2</th>\n",
       "      <td>72</td>\n",
       "      <td>2</td>\n",
       "      <td>14.9</td>\n",
       "      <td>29.8</td>\n",
       "    </tr>\n",
       "    <tr>\n",
       "      <th>3</th>\n",
       "      <td>92</td>\n",
       "      <td>8</td>\n",
       "      <td>7.4</td>\n",
       "      <td>59.2</td>\n",
       "    </tr>\n",
       "    <tr>\n",
       "      <th>4</th>\n",
       "      <td>73</td>\n",
       "      <td>1</td>\n",
       "      <td>22.5</td>\n",
       "      <td>22.5</td>\n",
       "    </tr>\n",
       "  </tbody>\n",
       "</table>\n",
       "</div>"
      ],
      "text/plain": [
       "   id  nombre  prix    CA\n",
       "0  70       2  17.6  35.2\n",
       "1  41       4  20.7  82.8\n",
       "2  72       2  14.9  29.8\n",
       "3  92       8   7.4  59.2\n",
       "4  73       1  22.5  22.5"
      ]
     },
     "execution_count": 97,
     "metadata": {},
     "output_type": "execute_result"
    }
   ],
   "source": [
    "data.head()"
   ]
  },
  {
   "cell_type": "code",
   "execution_count": 99,
   "id": "625470f6-dac3-47b8-a42a-be873a5c6044",
   "metadata": {},
   "outputs": [],
   "source": [
    "data_grouped = data.groupby('id').sum()"
   ]
  },
  {
   "cell_type": "code",
   "execution_count": 101,
   "id": "715704c2-d552-4680-9760-3a2bd42474f9",
   "metadata": {},
   "outputs": [
    {
     "data": {
      "text/html": [
       "<div>\n",
       "<style scoped>\n",
       "    .dataframe tbody tr th:only-of-type {\n",
       "        vertical-align: middle;\n",
       "    }\n",
       "\n",
       "    .dataframe tbody tr th {\n",
       "        vertical-align: top;\n",
       "    }\n",
       "\n",
       "    .dataframe thead th {\n",
       "        text-align: right;\n",
       "    }\n",
       "</style>\n",
       "<table border=\"1\" class=\"dataframe\">\n",
       "  <thead>\n",
       "    <tr style=\"text-align: right;\">\n",
       "      <th></th>\n",
       "      <th>nombre</th>\n",
       "      <th>prix</th>\n",
       "      <th>CA</th>\n",
       "    </tr>\n",
       "    <tr>\n",
       "      <th>id</th>\n",
       "      <th></th>\n",
       "      <th></th>\n",
       "      <th></th>\n",
       "    </tr>\n",
       "  </thead>\n",
       "  <tbody>\n",
       "    <tr>\n",
       "      <th>0</th>\n",
       "      <td>47</td>\n",
       "      <td>223.2</td>\n",
       "      <td>1165.6</td>\n",
       "    </tr>\n",
       "    <tr>\n",
       "      <th>1</th>\n",
       "      <td>49</td>\n",
       "      <td>131.0</td>\n",
       "      <td>641.9</td>\n",
       "    </tr>\n",
       "    <tr>\n",
       "      <th>2</th>\n",
       "      <td>39</td>\n",
       "      <td>189.6</td>\n",
       "      <td>924.3</td>\n",
       "    </tr>\n",
       "    <tr>\n",
       "      <th>3</th>\n",
       "      <td>34</td>\n",
       "      <td>80.0</td>\n",
       "      <td>544.0</td>\n",
       "    </tr>\n",
       "    <tr>\n",
       "      <th>4</th>\n",
       "      <td>45</td>\n",
       "      <td>152.0</td>\n",
       "      <td>855.0</td>\n",
       "    </tr>\n",
       "  </tbody>\n",
       "</table>\n",
       "</div>"
      ],
      "text/plain": [
       "    nombre   prix      CA\n",
       "id                       \n",
       "0       47  223.2  1165.6\n",
       "1       49  131.0   641.9\n",
       "2       39  189.6   924.3\n",
       "3       34   80.0   544.0\n",
       "4       45  152.0   855.0"
      ]
     },
     "execution_count": 101,
     "metadata": {},
     "output_type": "execute_result"
    }
   ],
   "source": [
    "data_grouped.head()"
   ]
  },
  {
   "cell_type": "raw",
   "id": "d951c3b0-f092-4fe2-ba38-84c730a6ef83",
   "metadata": {},
   "source": [
    "TRAVAIL SUR PRETS"
   ]
  },
  {
   "cell_type": "code",
   "execution_count": 60,
   "id": "fe42ab3f-25a9-41cb-9a9c-e98314dff121",
   "metadata": {},
   "outputs": [],
   "source": [
    "prets = pd.read_csv('prets.csv')"
   ]
  },
  {
   "cell_type": "code",
   "execution_count": 62,
   "id": "edb46207-7fc0-4644-a2fa-12e5ba12b3b5",
   "metadata": {},
   "outputs": [
    {
     "data": {
      "text/html": [
       "<div>\n",
       "<style scoped>\n",
       "    .dataframe tbody tr th:only-of-type {\n",
       "        vertical-align: middle;\n",
       "    }\n",
       "\n",
       "    .dataframe tbody tr th {\n",
       "        vertical-align: top;\n",
       "    }\n",
       "\n",
       "    .dataframe thead th {\n",
       "        text-align: right;\n",
       "    }\n",
       "</style>\n",
       "<table border=\"1\" class=\"dataframe\">\n",
       "  <thead>\n",
       "    <tr style=\"text-align: right;\">\n",
       "      <th></th>\n",
       "      <th>identifiant</th>\n",
       "      <th>ville</th>\n",
       "      <th>CP</th>\n",
       "      <th>revenu</th>\n",
       "      <th>remboursement</th>\n",
       "      <th>duree</th>\n",
       "      <th>type</th>\n",
       "      <th>taux</th>\n",
       "    </tr>\n",
       "  </thead>\n",
       "  <tbody>\n",
       "    <tr>\n",
       "      <th>0</th>\n",
       "      <td>0</td>\n",
       "      <td>TOULOUSE</td>\n",
       "      <td>31100</td>\n",
       "      <td>3669.0</td>\n",
       "      <td>1130.05</td>\n",
       "      <td>240</td>\n",
       "      <td>immobilier</td>\n",
       "      <td>1.168</td>\n",
       "    </tr>\n",
       "    <tr>\n",
       "      <th>1</th>\n",
       "      <td>1</td>\n",
       "      <td>PARIS</td>\n",
       "      <td>75009</td>\n",
       "      <td>5310.0</td>\n",
       "      <td>240.00</td>\n",
       "      <td>64</td>\n",
       "      <td>automobile</td>\n",
       "      <td>3.701</td>\n",
       "    </tr>\n",
       "    <tr>\n",
       "      <th>2</th>\n",
       "      <td>1</td>\n",
       "      <td>PARIS</td>\n",
       "      <td>75009</td>\n",
       "      <td>5310.0</td>\n",
       "      <td>1247.85</td>\n",
       "      <td>300</td>\n",
       "      <td>immobilier</td>\n",
       "      <td>1.173</td>\n",
       "    </tr>\n",
       "    <tr>\n",
       "      <th>3</th>\n",
       "      <td>2</td>\n",
       "      <td>MARSEILLE</td>\n",
       "      <td>13010</td>\n",
       "      <td>1873.0</td>\n",
       "      <td>552.54</td>\n",
       "      <td>240</td>\n",
       "      <td>immobilier</td>\n",
       "      <td>0.972</td>\n",
       "    </tr>\n",
       "    <tr>\n",
       "      <th>4</th>\n",
       "      <td>3</td>\n",
       "      <td>MARSEILLE</td>\n",
       "      <td>13010</td>\n",
       "      <td>1684.0</td>\n",
       "      <td>586.03</td>\n",
       "      <td>180</td>\n",
       "      <td>immobilier</td>\n",
       "      <td>1.014</td>\n",
       "    </tr>\n",
       "  </tbody>\n",
       "</table>\n",
       "</div>"
      ],
      "text/plain": [
       "   identifiant      ville     CP  revenu  remboursement  duree        type  \\\n",
       "0            0   TOULOUSE  31100  3669.0        1130.05    240  immobilier   \n",
       "1            1      PARIS  75009  5310.0         240.00     64  automobile   \n",
       "2            1      PARIS  75009  5310.0        1247.85    300  immobilier   \n",
       "3            2  MARSEILLE  13010  1873.0         552.54    240  immobilier   \n",
       "4            3  MARSEILLE  13010  1684.0         586.03    180  immobilier   \n",
       "\n",
       "    taux  \n",
       "0  1.168  \n",
       "1  3.701  \n",
       "2  1.173  \n",
       "3  0.972  \n",
       "4  1.014  "
      ]
     },
     "execution_count": 62,
     "metadata": {},
     "output_type": "execute_result"
    }
   ],
   "source": [
    "prets.head()"
   ]
  },
  {
   "cell_type": "code",
   "execution_count": 81,
   "id": "b67985d4-1690-4fca-8dfd-3589d2dd7789",
   "metadata": {},
   "outputs": [],
   "source": [
    "prets.rename(columns={'taux': 'taux_interet'}, inplace=True)"
   ]
  },
  {
   "cell_type": "code",
   "execution_count": 87,
   "id": "73114fed-626b-4d3e-844f-9912af17c28d",
   "metadata": {},
   "outputs": [],
   "source": [
    "prets['taux_endettement'] = round(prets['remboursement'] * 100 / prets['revenu'], 2)"
   ]
  },
  {
   "cell_type": "code",
   "execution_count": 92,
   "id": "33e7975f-f3ae-43f7-a055-460cfa46aa77",
   "metadata": {},
   "outputs": [
    {
     "data": {
      "text/html": [
       "<div>\n",
       "<style scoped>\n",
       "    .dataframe tbody tr th:only-of-type {\n",
       "        vertical-align: middle;\n",
       "    }\n",
       "\n",
       "    .dataframe tbody tr th {\n",
       "        vertical-align: top;\n",
       "    }\n",
       "\n",
       "    .dataframe thead th {\n",
       "        text-align: right;\n",
       "    }\n",
       "</style>\n",
       "<table border=\"1\" class=\"dataframe\">\n",
       "  <thead>\n",
       "    <tr style=\"text-align: right;\">\n",
       "      <th></th>\n",
       "      <th>identifiant</th>\n",
       "      <th>ville</th>\n",
       "      <th>CP</th>\n",
       "      <th>revenu</th>\n",
       "      <th>remboursement</th>\n",
       "      <th>duree</th>\n",
       "      <th>type</th>\n",
       "      <th>taux_interet</th>\n",
       "      <th>taux_endettement</th>\n",
       "    </tr>\n",
       "  </thead>\n",
       "  <tbody>\n",
       "    <tr>\n",
       "      <th>0</th>\n",
       "      <td>0</td>\n",
       "      <td>TOULOUSE</td>\n",
       "      <td>31100</td>\n",
       "      <td>3669.0</td>\n",
       "      <td>1130.05</td>\n",
       "      <td>240</td>\n",
       "      <td>immobilier</td>\n",
       "      <td>1.168</td>\n",
       "      <td>30.80</td>\n",
       "    </tr>\n",
       "    <tr>\n",
       "      <th>1</th>\n",
       "      <td>1</td>\n",
       "      <td>PARIS</td>\n",
       "      <td>75009</td>\n",
       "      <td>5310.0</td>\n",
       "      <td>240.00</td>\n",
       "      <td>64</td>\n",
       "      <td>automobile</td>\n",
       "      <td>3.701</td>\n",
       "      <td>4.52</td>\n",
       "    </tr>\n",
       "    <tr>\n",
       "      <th>2</th>\n",
       "      <td>1</td>\n",
       "      <td>PARIS</td>\n",
       "      <td>75009</td>\n",
       "      <td>5310.0</td>\n",
       "      <td>1247.85</td>\n",
       "      <td>300</td>\n",
       "      <td>immobilier</td>\n",
       "      <td>1.173</td>\n",
       "      <td>23.50</td>\n",
       "    </tr>\n",
       "    <tr>\n",
       "      <th>3</th>\n",
       "      <td>2</td>\n",
       "      <td>MARSEILLE</td>\n",
       "      <td>13010</td>\n",
       "      <td>1873.0</td>\n",
       "      <td>552.54</td>\n",
       "      <td>240</td>\n",
       "      <td>immobilier</td>\n",
       "      <td>0.972</td>\n",
       "      <td>29.50</td>\n",
       "    </tr>\n",
       "    <tr>\n",
       "      <th>4</th>\n",
       "      <td>3</td>\n",
       "      <td>MARSEILLE</td>\n",
       "      <td>13010</td>\n",
       "      <td>1684.0</td>\n",
       "      <td>586.03</td>\n",
       "      <td>180</td>\n",
       "      <td>immobilier</td>\n",
       "      <td>1.014</td>\n",
       "      <td>34.80</td>\n",
       "    </tr>\n",
       "  </tbody>\n",
       "</table>\n",
       "</div>"
      ],
      "text/plain": [
       "   identifiant      ville     CP  revenu  remboursement  duree        type  \\\n",
       "0            0   TOULOUSE  31100  3669.0        1130.05    240  immobilier   \n",
       "1            1      PARIS  75009  5310.0         240.00     64  automobile   \n",
       "2            1      PARIS  75009  5310.0        1247.85    300  immobilier   \n",
       "3            2  MARSEILLE  13010  1873.0         552.54    240  immobilier   \n",
       "4            3  MARSEILLE  13010  1684.0         586.03    180  immobilier   \n",
       "\n",
       "   taux_interet  taux_endettement  \n",
       "0         1.168             30.80  \n",
       "1         3.701              4.52  \n",
       "2         1.173             23.50  \n",
       "3         0.972             29.50  \n",
       "4         1.014             34.80  "
      ]
     },
     "execution_count": 92,
     "metadata": {},
     "output_type": "execute_result"
    }
   ],
   "source": [
    "prets.head()"
   ]
  },
  {
   "cell_type": "code",
   "execution_count": 94,
   "id": "9e8335b9-9e39-458f-a4fe-c1811bd2f885",
   "metadata": {},
   "outputs": [],
   "source": [
    "prets['cout_total'] = prets['remboursement'] * prets['duree']\n",
    "prets['benefices'] = round((prets['cout_total'] * prets['taux_interet']/100)/(24), 2)"
   ]
  },
  {
   "cell_type": "code",
   "execution_count": 96,
   "id": "9d9f1deb-d5aa-46c1-9a95-7394c3ac0974",
   "metadata": {},
   "outputs": [
    {
     "data": {
      "text/html": [
       "<div>\n",
       "<style scoped>\n",
       "    .dataframe tbody tr th:only-of-type {\n",
       "        vertical-align: middle;\n",
       "    }\n",
       "\n",
       "    .dataframe tbody tr th {\n",
       "        vertical-align: top;\n",
       "    }\n",
       "\n",
       "    .dataframe thead th {\n",
       "        text-align: right;\n",
       "    }\n",
       "</style>\n",
       "<table border=\"1\" class=\"dataframe\">\n",
       "  <thead>\n",
       "    <tr style=\"text-align: right;\">\n",
       "      <th></th>\n",
       "      <th>identifiant</th>\n",
       "      <th>ville</th>\n",
       "      <th>CP</th>\n",
       "      <th>revenu</th>\n",
       "      <th>remboursement</th>\n",
       "      <th>duree</th>\n",
       "      <th>type</th>\n",
       "      <th>taux_interet</th>\n",
       "      <th>taux_endettement</th>\n",
       "      <th>cout_total</th>\n",
       "      <th>benefices</th>\n",
       "    </tr>\n",
       "  </thead>\n",
       "  <tbody>\n",
       "    <tr>\n",
       "      <th>0</th>\n",
       "      <td>0</td>\n",
       "      <td>TOULOUSE</td>\n",
       "      <td>31100</td>\n",
       "      <td>3669.0</td>\n",
       "      <td>1130.05</td>\n",
       "      <td>240</td>\n",
       "      <td>immobilier</td>\n",
       "      <td>1.168</td>\n",
       "      <td>30.80</td>\n",
       "      <td>271212.0</td>\n",
       "      <td>131.99</td>\n",
       "    </tr>\n",
       "    <tr>\n",
       "      <th>1</th>\n",
       "      <td>1</td>\n",
       "      <td>PARIS</td>\n",
       "      <td>75009</td>\n",
       "      <td>5310.0</td>\n",
       "      <td>240.00</td>\n",
       "      <td>64</td>\n",
       "      <td>automobile</td>\n",
       "      <td>3.701</td>\n",
       "      <td>4.52</td>\n",
       "      <td>15360.0</td>\n",
       "      <td>23.69</td>\n",
       "    </tr>\n",
       "    <tr>\n",
       "      <th>2</th>\n",
       "      <td>1</td>\n",
       "      <td>PARIS</td>\n",
       "      <td>75009</td>\n",
       "      <td>5310.0</td>\n",
       "      <td>1247.85</td>\n",
       "      <td>300</td>\n",
       "      <td>immobilier</td>\n",
       "      <td>1.173</td>\n",
       "      <td>23.50</td>\n",
       "      <td>374355.0</td>\n",
       "      <td>182.97</td>\n",
       "    </tr>\n",
       "    <tr>\n",
       "      <th>3</th>\n",
       "      <td>2</td>\n",
       "      <td>MARSEILLE</td>\n",
       "      <td>13010</td>\n",
       "      <td>1873.0</td>\n",
       "      <td>552.54</td>\n",
       "      <td>240</td>\n",
       "      <td>immobilier</td>\n",
       "      <td>0.972</td>\n",
       "      <td>29.50</td>\n",
       "      <td>132609.6</td>\n",
       "      <td>53.71</td>\n",
       "    </tr>\n",
       "    <tr>\n",
       "      <th>4</th>\n",
       "      <td>3</td>\n",
       "      <td>MARSEILLE</td>\n",
       "      <td>13010</td>\n",
       "      <td>1684.0</td>\n",
       "      <td>586.03</td>\n",
       "      <td>180</td>\n",
       "      <td>immobilier</td>\n",
       "      <td>1.014</td>\n",
       "      <td>34.80</td>\n",
       "      <td>105485.4</td>\n",
       "      <td>44.57</td>\n",
       "    </tr>\n",
       "  </tbody>\n",
       "</table>\n",
       "</div>"
      ],
      "text/plain": [
       "   identifiant      ville     CP  revenu  remboursement  duree        type  \\\n",
       "0            0   TOULOUSE  31100  3669.0        1130.05    240  immobilier   \n",
       "1            1      PARIS  75009  5310.0         240.00     64  automobile   \n",
       "2            1      PARIS  75009  5310.0        1247.85    300  immobilier   \n",
       "3            2  MARSEILLE  13010  1873.0         552.54    240  immobilier   \n",
       "4            3  MARSEILLE  13010  1684.0         586.03    180  immobilier   \n",
       "\n",
       "   taux_interet  taux_endettement  cout_total  benefices  \n",
       "0         1.168             30.80    271212.0     131.99  \n",
       "1         3.701              4.52     15360.0      23.69  \n",
       "2         1.173             23.50    374355.0     182.97  \n",
       "3         0.972             29.50    132609.6      53.71  \n",
       "4         1.014             34.80    105485.4      44.57  "
      ]
     },
     "execution_count": 96,
     "metadata": {},
     "output_type": "execute_result"
    }
   ],
   "source": [
    "prets.head()"
   ]
  },
  {
   "cell_type": "code",
   "execution_count": 98,
   "id": "5238a7cc-7e17-4e6b-ba47-304fce1af828",
   "metadata": {},
   "outputs": [
    {
     "data": {
      "text/html": [
       "<div>\n",
       "<style scoped>\n",
       "    .dataframe tbody tr th:only-of-type {\n",
       "        vertical-align: middle;\n",
       "    }\n",
       "\n",
       "    .dataframe tbody tr th {\n",
       "        vertical-align: top;\n",
       "    }\n",
       "\n",
       "    .dataframe thead th {\n",
       "        text-align: right;\n",
       "    }\n",
       "</style>\n",
       "<table border=\"1\" class=\"dataframe\">\n",
       "  <thead>\n",
       "    <tr style=\"text-align: right;\">\n",
       "      <th></th>\n",
       "      <th>identifiant</th>\n",
       "      <th>ville</th>\n",
       "      <th>CP</th>\n",
       "      <th>revenu</th>\n",
       "      <th>remboursement</th>\n",
       "      <th>duree</th>\n",
       "      <th>type</th>\n",
       "      <th>taux_interet</th>\n",
       "      <th>taux_endettement</th>\n",
       "      <th>cout_total</th>\n",
       "      <th>benefices</th>\n",
       "    </tr>\n",
       "  </thead>\n",
       "  <tbody>\n",
       "    <tr>\n",
       "      <th>8</th>\n",
       "      <td>7</td>\n",
       "      <td>NICE</td>\n",
       "      <td>6000</td>\n",
       "      <td>5486.0</td>\n",
       "      <td>2956.95</td>\n",
       "      <td>300</td>\n",
       "      <td>immobilier</td>\n",
       "      <td>1.184</td>\n",
       "      <td>53.9</td>\n",
       "      <td>887085.0</td>\n",
       "      <td>437.63</td>\n",
       "    </tr>\n",
       "    <tr>\n",
       "      <th>23</th>\n",
       "      <td>22</td>\n",
       "      <td>NICE</td>\n",
       "      <td>6300</td>\n",
       "      <td>5838.0</td>\n",
       "      <td>3018.25</td>\n",
       "      <td>240</td>\n",
       "      <td>immobilier</td>\n",
       "      <td>1.229</td>\n",
       "      <td>51.7</td>\n",
       "      <td>724380.0</td>\n",
       "      <td>370.94</td>\n",
       "    </tr>\n",
       "    <tr>\n",
       "      <th>186</th>\n",
       "      <td>173</td>\n",
       "      <td>PARIS</td>\n",
       "      <td>75006</td>\n",
       "      <td>6784.0</td>\n",
       "      <td>3744.77</td>\n",
       "      <td>180</td>\n",
       "      <td>immobilier</td>\n",
       "      <td>1.248</td>\n",
       "      <td>55.2</td>\n",
       "      <td>674058.6</td>\n",
       "      <td>350.51</td>\n",
       "    </tr>\n",
       "    <tr>\n",
       "      <th>242</th>\n",
       "      <td>226</td>\n",
       "      <td>PARIS</td>\n",
       "      <td>75002</td>\n",
       "      <td>5098.0</td>\n",
       "      <td>2910.96</td>\n",
       "      <td>240</td>\n",
       "      <td>immobilier</td>\n",
       "      <td>1.140</td>\n",
       "      <td>57.1</td>\n",
       "      <td>698630.4</td>\n",
       "      <td>331.85</td>\n",
       "    </tr>\n",
       "    <tr>\n",
       "      <th>181</th>\n",
       "      <td>168</td>\n",
       "      <td>PARIS</td>\n",
       "      <td>75003</td>\n",
       "      <td>6366.0</td>\n",
       "      <td>2807.41</td>\n",
       "      <td>240</td>\n",
       "      <td>immobilier</td>\n",
       "      <td>1.176</td>\n",
       "      <td>44.1</td>\n",
       "      <td>673778.4</td>\n",
       "      <td>330.15</td>\n",
       "    </tr>\n",
       "  </tbody>\n",
       "</table>\n",
       "</div>"
      ],
      "text/plain": [
       "     identifiant  ville     CP  revenu  remboursement  duree        type  \\\n",
       "8              7   NICE   6000  5486.0        2956.95    300  immobilier   \n",
       "23            22   NICE   6300  5838.0        3018.25    240  immobilier   \n",
       "186          173  PARIS  75006  6784.0        3744.77    180  immobilier   \n",
       "242          226  PARIS  75002  5098.0        2910.96    240  immobilier   \n",
       "181          168  PARIS  75003  6366.0        2807.41    240  immobilier   \n",
       "\n",
       "     taux_interet  taux_endettement  cout_total  benefices  \n",
       "8           1.184              53.9    887085.0     437.63  \n",
       "23          1.229              51.7    724380.0     370.94  \n",
       "186         1.248              55.2    674058.6     350.51  \n",
       "242         1.140              57.1    698630.4     331.85  \n",
       "181         1.176              44.1    673778.4     330.15  "
      ]
     },
     "execution_count": 98,
     "metadata": {},
     "output_type": "execute_result"
    }
   ],
   "source": [
    "prets.sort_values('benefices', ascending=False).head()"
   ]
  },
  {
   "cell_type": "code",
   "execution_count": 100,
   "id": "8df2e4db-2345-4910-9d6c-bcaecd29183e",
   "metadata": {},
   "outputs": [
    {
     "data": {
      "text/plain": [
       "RangeIndex(start=0, stop=244, step=1)"
      ]
     },
     "execution_count": 100,
     "metadata": {},
     "output_type": "execute_result"
    }
   ],
   "source": [
    "prets.index"
   ]
  },
  {
   "cell_type": "code",
   "execution_count": 102,
   "id": "b95466a8-e286-43db-bfdd-347d99e9ee8c",
   "metadata": {},
   "outputs": [],
   "source": [
    "client_risque = prets.loc[prets['taux_endettement'] > 35, :]\n",
    "client_risque.head()\n",
    "client_risque_paris = prets.loc[(prets['taux_endettement'] > 35) & (prets['ville'] == 'PARIS'), :]\n",
    "client_risque_paris.head()\n",
    "prets['risque'] = 'Non'\n",
    "prets.loc[prets['taux_endettement'] > 35, 'risque'] = 'Oui'"
   ]
  },
  {
   "cell_type": "code",
   "execution_count": 104,
   "id": "16dbd769-2372-4352-b84e-5365b8a2003f",
   "metadata": {},
   "outputs": [
    {
     "name": "stdout",
     "output_type": "stream",
     "text": [
      "16\n",
      "13665.0\n"
     ]
    }
   ],
   "source": [
    "print(prets.loc[prets['type'] == 'automobile', :].shape[0])\n",
    "print(prets.loc[prets['type'] == 'automobile', 'cout_total'].mean())"
   ]
  },
  {
   "cell_type": "code",
   "execution_count": 106,
   "id": "fa07c344-d928-422b-9dcc-acdb13eea2cc",
   "metadata": {},
   "outputs": [
    {
     "name": "stdout",
     "output_type": "stream",
     "text": [
      "2138.0699999999997\n"
     ]
    }
   ],
   "source": [
    "print(prets.loc[prets['ville'] == 'TOULOUSE', 'benefices'].sum())"
   ]
  },
  {
   "cell_type": "code",
   "execution_count": 108,
   "id": "42758a5b-0931-4f35-b366-1e1d6615f489",
   "metadata": {},
   "outputs": [
    {
     "data": {
      "text/html": [
       "<div>\n",
       "<style scoped>\n",
       "    .dataframe tbody tr th:only-of-type {\n",
       "        vertical-align: middle;\n",
       "    }\n",
       "\n",
       "    .dataframe tbody tr th {\n",
       "        vertical-align: top;\n",
       "    }\n",
       "\n",
       "    .dataframe thead th {\n",
       "        text-align: right;\n",
       "    }\n",
       "</style>\n",
       "<table border=\"1\" class=\"dataframe\">\n",
       "  <thead>\n",
       "    <tr style=\"text-align: right;\">\n",
       "      <th></th>\n",
       "      <th></th>\n",
       "      <th>identifiant</th>\n",
       "      <th>CP</th>\n",
       "      <th>revenu</th>\n",
       "      <th>remboursement</th>\n",
       "      <th>duree</th>\n",
       "      <th>taux_interet</th>\n",
       "      <th>taux_endettement</th>\n",
       "      <th>cout_total</th>\n",
       "      <th>benefices</th>\n",
       "      <th>risque</th>\n",
       "    </tr>\n",
       "    <tr>\n",
       "      <th>ville</th>\n",
       "      <th>type</th>\n",
       "      <th></th>\n",
       "      <th></th>\n",
       "      <th></th>\n",
       "      <th></th>\n",
       "      <th></th>\n",
       "      <th></th>\n",
       "      <th></th>\n",
       "      <th></th>\n",
       "      <th></th>\n",
       "      <th></th>\n",
       "    </tr>\n",
       "  </thead>\n",
       "  <tbody>\n",
       "    <tr>\n",
       "      <th>BORDEAUX</th>\n",
       "      <th>immobilier</th>\n",
       "      <td>1718</td>\n",
       "      <td>531800</td>\n",
       "      <td>50816.0</td>\n",
       "      <td>15330.59</td>\n",
       "      <td>3660</td>\n",
       "      <td>18.767</td>\n",
       "      <td>496.90</td>\n",
       "      <td>3441385.2</td>\n",
       "      <td>1681.32</td>\n",
       "      <td>NonNonNonNonNonNonOuiNonNonNonOuiNonOuiNonOuiOui</td>\n",
       "    </tr>\n",
       "    <tr>\n",
       "      <th rowspan=\"2\" valign=\"top\">LYON</th>\n",
       "      <th>automobile</th>\n",
       "      <td>360</td>\n",
       "      <td>207018</td>\n",
       "      <td>11531.0</td>\n",
       "      <td>788.80</td>\n",
       "      <td>131</td>\n",
       "      <td>10.083</td>\n",
       "      <td>23.68</td>\n",
       "      <td>33796.4</td>\n",
       "      <td>47.39</td>\n",
       "      <td>NonNonNon</td>\n",
       "    </tr>\n",
       "    <tr>\n",
       "      <th>immobilier</th>\n",
       "      <td>2473</td>\n",
       "      <td>1725116</td>\n",
       "      <td>83823.0</td>\n",
       "      <td>25275.87</td>\n",
       "      <td>6120</td>\n",
       "      <td>28.835</td>\n",
       "      <td>768.10</td>\n",
       "      <td>6165535.8</td>\n",
       "      <td>2967.41</td>\n",
       "      <td>OuiOuiNonNonOuiOuiNonNonNonNonNonNonOuiNonNonO...</td>\n",
       "    </tr>\n",
       "    <tr>\n",
       "      <th rowspan=\"2\" valign=\"top\">MARSEILLE</th>\n",
       "      <th>automobile</th>\n",
       "      <td>404</td>\n",
       "      <td>39031</td>\n",
       "      <td>5842.0</td>\n",
       "      <td>839.60</td>\n",
       "      <td>160</td>\n",
       "      <td>9.535</td>\n",
       "      <td>46.02</td>\n",
       "      <td>46145.4</td>\n",
       "      <td>61.36</td>\n",
       "      <td>NonNonNon</td>\n",
       "    </tr>\n",
       "    <tr>\n",
       "      <th>immobilier</th>\n",
       "      <td>7542</td>\n",
       "      <td>936701</td>\n",
       "      <td>140084.0</td>\n",
       "      <td>40056.12</td>\n",
       "      <td>16260</td>\n",
       "      <td>83.003</td>\n",
       "      <td>2077.30</td>\n",
       "      <td>9063243.0</td>\n",
       "      <td>4334.55</td>\n",
       "      <td>NonNonNonOuiNonNonNonNonOuiOuiNonNonNonNonNonO...</td>\n",
       "    </tr>\n",
       "    <tr>\n",
       "      <th rowspan=\"2\" valign=\"top\">NICE</th>\n",
       "      <th>automobile</th>\n",
       "      <td>187</td>\n",
       "      <td>12300</td>\n",
       "      <td>7607.0</td>\n",
       "      <td>612.80</td>\n",
       "      <td>80</td>\n",
       "      <td>6.104</td>\n",
       "      <td>16.23</td>\n",
       "      <td>24624.0</td>\n",
       "      <td>31.15</td>\n",
       "      <td>NonNon</td>\n",
       "    </tr>\n",
       "    <tr>\n",
       "      <th>immobilier</th>\n",
       "      <td>2188</td>\n",
       "      <td>116800</td>\n",
       "      <td>77681.0</td>\n",
       "      <td>22931.44</td>\n",
       "      <td>4380</td>\n",
       "      <td>21.602</td>\n",
       "      <td>556.10</td>\n",
       "      <td>5534730.6</td>\n",
       "      <td>2651.60</td>\n",
       "      <td>OuiNonOuiNonNonNonNonNonNonNonNonOuiNonNonNonN...</td>\n",
       "    </tr>\n",
       "    <tr>\n",
       "      <th rowspan=\"2\" valign=\"top\">PARIS</th>\n",
       "      <th>automobile</th>\n",
       "      <td>612</td>\n",
       "      <td>375054</td>\n",
       "      <td>22834.0</td>\n",
       "      <td>1426.60</td>\n",
       "      <td>246</td>\n",
       "      <td>17.271</td>\n",
       "      <td>33.95</td>\n",
       "      <td>69591.2</td>\n",
       "      <td>99.50</td>\n",
       "      <td>NonNonNonNonNon</td>\n",
       "    </tr>\n",
       "    <tr>\n",
       "      <th>immobilier</th>\n",
       "      <td>9237</td>\n",
       "      <td>5400965</td>\n",
       "      <td>312625.0</td>\n",
       "      <td>92626.01</td>\n",
       "      <td>16440</td>\n",
       "      <td>82.802</td>\n",
       "      <td>2080.80</td>\n",
       "      <td>20744353.2</td>\n",
       "      <td>9916.85</td>\n",
       "      <td>NonNonNonNonNonNonNonNonNonNonNonNonNonNonNonO...</td>\n",
       "    </tr>\n",
       "    <tr>\n",
       "      <th rowspan=\"2\" valign=\"top\">TOULOUSE</th>\n",
       "      <th>automobile</th>\n",
       "      <td>442</td>\n",
       "      <td>93400</td>\n",
       "      <td>7803.0</td>\n",
       "      <td>718.80</td>\n",
       "      <td>183</td>\n",
       "      <td>9.868</td>\n",
       "      <td>30.63</td>\n",
       "      <td>44483.0</td>\n",
       "      <td>61.22</td>\n",
       "      <td>NonNonNon</td>\n",
       "    </tr>\n",
       "    <tr>\n",
       "      <th>immobilier</th>\n",
       "      <td>2720</td>\n",
       "      <td>749900</td>\n",
       "      <td>67814.0</td>\n",
       "      <td>18567.38</td>\n",
       "      <td>5460</td>\n",
       "      <td>28.349</td>\n",
       "      <td>666.90</td>\n",
       "      <td>4212504.0</td>\n",
       "      <td>2076.85</td>\n",
       "      <td>NonOuiNonNonOuiNonNonNonOuiNonNonNonNonNonNonN...</td>\n",
       "    </tr>\n",
       "  </tbody>\n",
       "</table>\n",
       "</div>"
      ],
      "text/plain": [
       "                      identifiant       CP    revenu  remboursement  duree  \\\n",
       "ville     type                                                               \n",
       "BORDEAUX  immobilier         1718   531800   50816.0       15330.59   3660   \n",
       "LYON      automobile          360   207018   11531.0         788.80    131   \n",
       "          immobilier         2473  1725116   83823.0       25275.87   6120   \n",
       "MARSEILLE automobile          404    39031    5842.0         839.60    160   \n",
       "          immobilier         7542   936701  140084.0       40056.12  16260   \n",
       "NICE      automobile          187    12300    7607.0         612.80     80   \n",
       "          immobilier         2188   116800   77681.0       22931.44   4380   \n",
       "PARIS     automobile          612   375054   22834.0        1426.60    246   \n",
       "          immobilier         9237  5400965  312625.0       92626.01  16440   \n",
       "TOULOUSE  automobile          442    93400    7803.0         718.80    183   \n",
       "          immobilier         2720   749900   67814.0       18567.38   5460   \n",
       "\n",
       "                      taux_interet  taux_endettement  cout_total  benefices  \\\n",
       "ville     type                                                                \n",
       "BORDEAUX  immobilier        18.767            496.90   3441385.2    1681.32   \n",
       "LYON      automobile        10.083             23.68     33796.4      47.39   \n",
       "          immobilier        28.835            768.10   6165535.8    2967.41   \n",
       "MARSEILLE automobile         9.535             46.02     46145.4      61.36   \n",
       "          immobilier        83.003           2077.30   9063243.0    4334.55   \n",
       "NICE      automobile         6.104             16.23     24624.0      31.15   \n",
       "          immobilier        21.602            556.10   5534730.6    2651.60   \n",
       "PARIS     automobile        17.271             33.95     69591.2      99.50   \n",
       "          immobilier        82.802           2080.80  20744353.2    9916.85   \n",
       "TOULOUSE  automobile         9.868             30.63     44483.0      61.22   \n",
       "          immobilier        28.349            666.90   4212504.0    2076.85   \n",
       "\n",
       "                                                                 risque  \n",
       "ville     type                                                           \n",
       "BORDEAUX  immobilier   NonNonNonNonNonNonOuiNonNonNonOuiNonOuiNonOuiOui  \n",
       "LYON      automobile                                          NonNonNon  \n",
       "          immobilier  OuiOuiNonNonOuiOuiNonNonNonNonNonNonOuiNonNonO...  \n",
       "MARSEILLE automobile                                          NonNonNon  \n",
       "          immobilier  NonNonNonOuiNonNonNonNonOuiOuiNonNonNonNonNonO...  \n",
       "NICE      automobile                                             NonNon  \n",
       "          immobilier  OuiNonOuiNonNonNonNonNonNonNonNonOuiNonNonNonN...  \n",
       "PARIS     automobile                                    NonNonNonNonNon  \n",
       "          immobilier  NonNonNonNonNonNonNonNonNonNonNonNonNonNonNonO...  \n",
       "TOULOUSE  automobile                                          NonNonNon  \n",
       "          immobilier  NonOuiNonNonOuiNonNonNonOuiNonNonNonNonNonNonN...  "
      ]
     },
     "execution_count": 108,
     "metadata": {},
     "output_type": "execute_result"
    }
   ],
   "source": [
    "prets.groupby(['ville', 'type']).sum()"
   ]
  },
  {
   "cell_type": "raw",
   "id": "ad907631-6dac-482e-9d69-47282693d413",
   "metadata": {},
   "source": [
    "Tableau simple : 1 colonne pour les villes, 1 colonne pour les types"
   ]
  },
  {
   "cell_type": "code",
   "execution_count": 112,
   "id": "219531b7-6eb7-4886-927e-823a263f82c7",
   "metadata": {},
   "outputs": [
    {
     "data": {
      "text/html": [
       "<div>\n",
       "<style scoped>\n",
       "    .dataframe tbody tr th:only-of-type {\n",
       "        vertical-align: middle;\n",
       "    }\n",
       "\n",
       "    .dataframe tbody tr th {\n",
       "        vertical-align: top;\n",
       "    }\n",
       "\n",
       "    .dataframe thead tr th {\n",
       "        text-align: left;\n",
       "    }\n",
       "\n",
       "    .dataframe thead tr:last-of-type th {\n",
       "        text-align: right;\n",
       "    }\n",
       "</style>\n",
       "<table border=\"1\" class=\"dataframe\">\n",
       "  <thead>\n",
       "    <tr>\n",
       "      <th></th>\n",
       "      <th></th>\n",
       "      <th colspan=\"2\" halign=\"left\">remboursement</th>\n",
       "      <th>revenu</th>\n",
       "    </tr>\n",
       "    <tr>\n",
       "      <th></th>\n",
       "      <th></th>\n",
       "      <th>sum</th>\n",
       "      <th>mean</th>\n",
       "      <th>max</th>\n",
       "    </tr>\n",
       "    <tr>\n",
       "      <th>ville</th>\n",
       "      <th>type</th>\n",
       "      <th></th>\n",
       "      <th></th>\n",
       "      <th></th>\n",
       "    </tr>\n",
       "  </thead>\n",
       "  <tbody>\n",
       "    <tr>\n",
       "      <th>BORDEAUX</th>\n",
       "      <th>immobilier</th>\n",
       "      <td>15330.59</td>\n",
       "      <td>958.161875</td>\n",
       "      <td>3691.0</td>\n",
       "    </tr>\n",
       "    <tr>\n",
       "      <th rowspan=\"2\" valign=\"top\">LYON</th>\n",
       "      <th>automobile</th>\n",
       "      <td>788.80</td>\n",
       "      <td>262.933333</td>\n",
       "      <td>4737.0</td>\n",
       "    </tr>\n",
       "    <tr>\n",
       "      <th>immobilier</th>\n",
       "      <td>25275.87</td>\n",
       "      <td>1011.034800</td>\n",
       "      <td>4771.0</td>\n",
       "    </tr>\n",
       "    <tr>\n",
       "      <th rowspan=\"2\" valign=\"top\">MARSEILLE</th>\n",
       "      <th>automobile</th>\n",
       "      <td>839.60</td>\n",
       "      <td>279.866667</td>\n",
       "      <td>2314.0</td>\n",
       "    </tr>\n",
       "    <tr>\n",
       "      <th>immobilier</th>\n",
       "      <td>40056.12</td>\n",
       "      <td>556.335000</td>\n",
       "      <td>2962.0</td>\n",
       "    </tr>\n",
       "    <tr>\n",
       "      <th rowspan=\"2\" valign=\"top\">NICE</th>\n",
       "      <th>automobile</th>\n",
       "      <td>612.80</td>\n",
       "      <td>306.400000</td>\n",
       "      <td>4114.0</td>\n",
       "    </tr>\n",
       "    <tr>\n",
       "      <th>immobilier</th>\n",
       "      <td>22931.44</td>\n",
       "      <td>1206.917895</td>\n",
       "      <td>5987.0</td>\n",
       "    </tr>\n",
       "    <tr>\n",
       "      <th rowspan=\"2\" valign=\"top\">PARIS</th>\n",
       "      <th>automobile</th>\n",
       "      <td>1426.60</td>\n",
       "      <td>285.320000</td>\n",
       "      <td>6069.0</td>\n",
       "    </tr>\n",
       "    <tr>\n",
       "      <th>immobilier</th>\n",
       "      <td>92626.01</td>\n",
       "      <td>1286.472361</td>\n",
       "      <td>6807.0</td>\n",
       "    </tr>\n",
       "    <tr>\n",
       "      <th rowspan=\"2\" valign=\"top\">TOULOUSE</th>\n",
       "      <th>automobile</th>\n",
       "      <td>718.80</td>\n",
       "      <td>239.600000</td>\n",
       "      <td>3724.0</td>\n",
       "    </tr>\n",
       "    <tr>\n",
       "      <th>immobilier</th>\n",
       "      <td>18567.38</td>\n",
       "      <td>773.640833</td>\n",
       "      <td>3993.0</td>\n",
       "    </tr>\n",
       "  </tbody>\n",
       "</table>\n",
       "</div>"
      ],
      "text/plain": [
       "                     remboursement               revenu\n",
       "                               sum         mean     max\n",
       "ville     type                                         \n",
       "BORDEAUX  immobilier      15330.59   958.161875  3691.0\n",
       "LYON      automobile        788.80   262.933333  4737.0\n",
       "          immobilier      25275.87  1011.034800  4771.0\n",
       "MARSEILLE automobile        839.60   279.866667  2314.0\n",
       "          immobilier      40056.12   556.335000  2962.0\n",
       "NICE      automobile        612.80   306.400000  4114.0\n",
       "          immobilier      22931.44  1206.917895  5987.0\n",
       "PARIS     automobile       1426.60   285.320000  6069.0\n",
       "          immobilier      92626.01  1286.472361  6807.0\n",
       "TOULOUSE  automobile        718.80   239.600000  3724.0\n",
       "          immobilier      18567.38   773.640833  3993.0"
      ]
     },
     "execution_count": 112,
     "metadata": {},
     "output_type": "execute_result"
    }
   ],
   "source": [
    "prets.groupby(['ville', 'type']).agg({'remboursement': ['sum', 'mean'],\n",
    "    'revenu': 'max'})"
   ]
  },
  {
   "cell_type": "raw",
   "id": "8169cad3-2cd2-4080-b1b1-1da4b874fbf5",
   "metadata": {},
   "source": [
    "Tableau double entree : 1 colonne pour les villes, plusieurs colonnes pour les types. On étale les types sur plusieurs colonnes avec la fonction pivot_table"
   ]
  },
  {
   "cell_type": "code",
   "execution_count": 120,
   "id": "a4e6bca0-5bca-4287-8fb8-856a8e7bd7ee",
   "metadata": {},
   "outputs": [
    {
     "data": {
      "text/html": [
       "<div>\n",
       "<style scoped>\n",
       "    .dataframe tbody tr th:only-of-type {\n",
       "        vertical-align: middle;\n",
       "    }\n",
       "\n",
       "    .dataframe tbody tr th {\n",
       "        vertical-align: top;\n",
       "    }\n",
       "\n",
       "    .dataframe thead th {\n",
       "        text-align: right;\n",
       "    }\n",
       "</style>\n",
       "<table border=\"1\" class=\"dataframe\">\n",
       "  <thead>\n",
       "    <tr style=\"text-align: right;\">\n",
       "      <th>type</th>\n",
       "      <th>ville</th>\n",
       "      <th>automobile</th>\n",
       "      <th>immobilier</th>\n",
       "    </tr>\n",
       "  </thead>\n",
       "  <tbody>\n",
       "    <tr>\n",
       "      <th>0</th>\n",
       "      <td>BORDEAUX</td>\n",
       "      <td>NaN</td>\n",
       "      <td>15330.59</td>\n",
       "    </tr>\n",
       "    <tr>\n",
       "      <th>1</th>\n",
       "      <td>LYON</td>\n",
       "      <td>788.8</td>\n",
       "      <td>25275.87</td>\n",
       "    </tr>\n",
       "    <tr>\n",
       "      <th>2</th>\n",
       "      <td>MARSEILLE</td>\n",
       "      <td>839.6</td>\n",
       "      <td>40056.12</td>\n",
       "    </tr>\n",
       "    <tr>\n",
       "      <th>3</th>\n",
       "      <td>NICE</td>\n",
       "      <td>612.8</td>\n",
       "      <td>22931.44</td>\n",
       "    </tr>\n",
       "    <tr>\n",
       "      <th>4</th>\n",
       "      <td>PARIS</td>\n",
       "      <td>1426.6</td>\n",
       "      <td>92626.01</td>\n",
       "    </tr>\n",
       "    <tr>\n",
       "      <th>5</th>\n",
       "      <td>TOULOUSE</td>\n",
       "      <td>718.8</td>\n",
       "      <td>18567.38</td>\n",
       "    </tr>\n",
       "  </tbody>\n",
       "</table>\n",
       "</div>"
      ],
      "text/plain": [
       "type      ville  automobile  immobilier\n",
       "0      BORDEAUX         NaN    15330.59\n",
       "1          LYON       788.8    25275.87\n",
       "2     MARSEILLE       839.6    40056.12\n",
       "3          NICE       612.8    22931.44\n",
       "4         PARIS      1426.6    92626.01\n",
       "5      TOULOUSE       718.8    18567.38"
      ]
     },
     "execution_count": 120,
     "metadata": {},
     "output_type": "execute_result"
    }
   ],
   "source": [
    "data = prets.pivot_table(index='ville', columns='type', values='remboursement', aggfunc='sum')\n",
    "data = data.reset_index()\n",
    "data"
   ]
  },
  {
   "cell_type": "raw",
   "id": "e0b4d75b-0961-4867-af33-c59912e76ef3",
   "metadata": {},
   "source": [
    "Melt : inverse de pivot_table, on regroupe les types dans 1 seule colonne"
   ]
  },
  {
   "cell_type": "code",
   "execution_count": 122,
   "id": "2e2c1a79-f8e6-4a5a-bb35-bb0aa806dfe6",
   "metadata": {},
   "outputs": [
    {
     "data": {
      "text/html": [
       "<div>\n",
       "<style scoped>\n",
       "    .dataframe tbody tr th:only-of-type {\n",
       "        vertical-align: middle;\n",
       "    }\n",
       "\n",
       "    .dataframe tbody tr th {\n",
       "        vertical-align: top;\n",
       "    }\n",
       "\n",
       "    .dataframe thead th {\n",
       "        text-align: right;\n",
       "    }\n",
       "</style>\n",
       "<table border=\"1\" class=\"dataframe\">\n",
       "  <thead>\n",
       "    <tr style=\"text-align: right;\">\n",
       "      <th></th>\n",
       "      <th>ville</th>\n",
       "      <th>type</th>\n",
       "      <th>value</th>\n",
       "    </tr>\n",
       "  </thead>\n",
       "  <tbody>\n",
       "    <tr>\n",
       "      <th>0</th>\n",
       "      <td>BORDEAUX</td>\n",
       "      <td>automobile</td>\n",
       "      <td>NaN</td>\n",
       "    </tr>\n",
       "    <tr>\n",
       "      <th>1</th>\n",
       "      <td>LYON</td>\n",
       "      <td>automobile</td>\n",
       "      <td>788.80</td>\n",
       "    </tr>\n",
       "    <tr>\n",
       "      <th>2</th>\n",
       "      <td>MARSEILLE</td>\n",
       "      <td>automobile</td>\n",
       "      <td>839.60</td>\n",
       "    </tr>\n",
       "    <tr>\n",
       "      <th>3</th>\n",
       "      <td>NICE</td>\n",
       "      <td>automobile</td>\n",
       "      <td>612.80</td>\n",
       "    </tr>\n",
       "    <tr>\n",
       "      <th>4</th>\n",
       "      <td>PARIS</td>\n",
       "      <td>automobile</td>\n",
       "      <td>1426.60</td>\n",
       "    </tr>\n",
       "    <tr>\n",
       "      <th>5</th>\n",
       "      <td>TOULOUSE</td>\n",
       "      <td>automobile</td>\n",
       "      <td>718.80</td>\n",
       "    </tr>\n",
       "    <tr>\n",
       "      <th>6</th>\n",
       "      <td>BORDEAUX</td>\n",
       "      <td>immobilier</td>\n",
       "      <td>15330.59</td>\n",
       "    </tr>\n",
       "    <tr>\n",
       "      <th>7</th>\n",
       "      <td>LYON</td>\n",
       "      <td>immobilier</td>\n",
       "      <td>25275.87</td>\n",
       "    </tr>\n",
       "    <tr>\n",
       "      <th>8</th>\n",
       "      <td>MARSEILLE</td>\n",
       "      <td>immobilier</td>\n",
       "      <td>40056.12</td>\n",
       "    </tr>\n",
       "    <tr>\n",
       "      <th>9</th>\n",
       "      <td>NICE</td>\n",
       "      <td>immobilier</td>\n",
       "      <td>22931.44</td>\n",
       "    </tr>\n",
       "    <tr>\n",
       "      <th>10</th>\n",
       "      <td>PARIS</td>\n",
       "      <td>immobilier</td>\n",
       "      <td>92626.01</td>\n",
       "    </tr>\n",
       "    <tr>\n",
       "      <th>11</th>\n",
       "      <td>TOULOUSE</td>\n",
       "      <td>immobilier</td>\n",
       "      <td>18567.38</td>\n",
       "    </tr>\n",
       "  </tbody>\n",
       "</table>\n",
       "</div>"
      ],
      "text/plain": [
       "        ville        type     value\n",
       "0    BORDEAUX  automobile       NaN\n",
       "1        LYON  automobile    788.80\n",
       "2   MARSEILLE  automobile    839.60\n",
       "3        NICE  automobile    612.80\n",
       "4       PARIS  automobile   1426.60\n",
       "5    TOULOUSE  automobile    718.80\n",
       "6    BORDEAUX  immobilier  15330.59\n",
       "7        LYON  immobilier  25275.87\n",
       "8   MARSEILLE  immobilier  40056.12\n",
       "9        NICE  immobilier  22931.44\n",
       "10      PARIS  immobilier  92626.01\n",
       "11   TOULOUSE  immobilier  18567.38"
      ]
     },
     "execution_count": 122,
     "metadata": {},
     "output_type": "execute_result"
    }
   ],
   "source": [
    "data.melt(id_vars='ville', value_vars=['automobile', 'immobilier'])"
   ]
  },
  {
   "cell_type": "code",
   "execution_count": 152,
   "id": "eac5c42c-f3d9-418c-b522-e24c8a6fd7ac",
   "metadata": {},
   "outputs": [
    {
     "data": {
      "text/plain": [
       "62"
      ]
     },
     "execution_count": 152,
     "metadata": {},
     "output_type": "execute_result"
    }
   ],
   "source": [
    "profil_client = prets.groupby('identifiant')[['remboursement', 'taux_endettement', 'cout_total', 'benefices']].sum()\n",
    "profil_client.loc[profil_client['taux_endettement'] > 35, :].shape[0]"
   ]
  },
  {
   "cell_type": "code",
   "execution_count": 134,
   "id": "c327bc5e-afa6-454e-8896-9a21971f29e0",
   "metadata": {},
   "outputs": [
    {
     "data": {
      "text/plain": [
       "ville      type      \n",
       "BORDEAUX   immobilier    1681.32\n",
       "LYON       automobile      47.39\n",
       "           immobilier    2967.41\n",
       "MARSEILLE  automobile      61.36\n",
       "           immobilier    4334.55\n",
       "NICE       automobile      31.15\n",
       "           immobilier    2651.60\n",
       "PARIS      automobile      99.50\n",
       "           immobilier    9916.85\n",
       "TOULOUSE   automobile      61.22\n",
       "           immobilier    2076.85\n",
       "Name: benefices, dtype: float64"
      ]
     },
     "execution_count": 134,
     "metadata": {},
     "output_type": "execute_result"
    }
   ],
   "source": [
    "prets.groupby(['ville', 'type'])['benefices'].sum()"
   ]
  },
  {
   "cell_type": "code",
   "execution_count": 136,
   "id": "d2293202-b049-4f2f-b710-ba3c09f1d72d",
   "metadata": {},
   "outputs": [
    {
     "data": {
      "text/html": [
       "<div>\n",
       "<style scoped>\n",
       "    .dataframe tbody tr th:only-of-type {\n",
       "        vertical-align: middle;\n",
       "    }\n",
       "\n",
       "    .dataframe tbody tr th {\n",
       "        vertical-align: top;\n",
       "    }\n",
       "\n",
       "    .dataframe thead th {\n",
       "        text-align: right;\n",
       "    }\n",
       "</style>\n",
       "<table border=\"1\" class=\"dataframe\">\n",
       "  <thead>\n",
       "    <tr style=\"text-align: right;\">\n",
       "      <th>type</th>\n",
       "      <th>automobile</th>\n",
       "      <th>immobilier</th>\n",
       "    </tr>\n",
       "    <tr>\n",
       "      <th>ville</th>\n",
       "      <th></th>\n",
       "      <th></th>\n",
       "    </tr>\n",
       "  </thead>\n",
       "  <tbody>\n",
       "    <tr>\n",
       "      <th>BORDEAUX</th>\n",
       "      <td>NaN</td>\n",
       "      <td>105.082500</td>\n",
       "    </tr>\n",
       "    <tr>\n",
       "      <th>LYON</th>\n",
       "      <td>15.796667</td>\n",
       "      <td>118.696400</td>\n",
       "    </tr>\n",
       "    <tr>\n",
       "      <th>MARSEILLE</th>\n",
       "      <td>20.453333</td>\n",
       "      <td>60.202083</td>\n",
       "    </tr>\n",
       "    <tr>\n",
       "      <th>NICE</th>\n",
       "      <td>15.575000</td>\n",
       "      <td>139.557895</td>\n",
       "    </tr>\n",
       "    <tr>\n",
       "      <th>PARIS</th>\n",
       "      <td>19.900000</td>\n",
       "      <td>137.734028</td>\n",
       "    </tr>\n",
       "    <tr>\n",
       "      <th>TOULOUSE</th>\n",
       "      <td>20.406667</td>\n",
       "      <td>86.535417</td>\n",
       "    </tr>\n",
       "  </tbody>\n",
       "</table>\n",
       "</div>"
      ],
      "text/plain": [
       "type       automobile  immobilier\n",
       "ville                            \n",
       "BORDEAUX          NaN  105.082500\n",
       "LYON        15.796667  118.696400\n",
       "MARSEILLE   20.453333   60.202083\n",
       "NICE        15.575000  139.557895\n",
       "PARIS       19.900000  137.734028\n",
       "TOULOUSE    20.406667   86.535417"
      ]
     },
     "execution_count": 136,
     "metadata": {},
     "output_type": "execute_result"
    }
   ],
   "source": [
    "prets.pivot_table(index='ville', columns='type', values='benefices', aggfunc='mean')"
   ]
  },
  {
   "cell_type": "code",
   "execution_count": 138,
   "id": "d7363425-4b1b-4dde-878a-7fc0d658d160",
   "metadata": {},
   "outputs": [],
   "source": [
    "client_1 = pd.read_csv('clients.csv')"
   ]
  },
  {
   "cell_type": "code",
   "execution_count": 140,
   "id": "850434c5-70c2-4457-850a-ceb6d69df8b9",
   "metadata": {},
   "outputs": [],
   "source": [
    "client_2 = pd.read_csv('clients_suite.csv')"
   ]
  },
  {
   "cell_type": "code",
   "execution_count": 142,
   "id": "8c8594b2-d7b4-4568-bad2-ca37c867467f",
   "metadata": {},
   "outputs": [
    {
     "data": {
      "text/html": [
       "<div>\n",
       "<style scoped>\n",
       "    .dataframe tbody tr th:only-of-type {\n",
       "        vertical-align: middle;\n",
       "    }\n",
       "\n",
       "    .dataframe tbody tr th {\n",
       "        vertical-align: top;\n",
       "    }\n",
       "\n",
       "    .dataframe thead th {\n",
       "        text-align: right;\n",
       "    }\n",
       "</style>\n",
       "<table border=\"1\" class=\"dataframe\">\n",
       "  <thead>\n",
       "    <tr style=\"text-align: right;\">\n",
       "      <th></th>\n",
       "      <th>identifiant</th>\n",
       "      <th>email</th>\n",
       "      <th>nom</th>\n",
       "      <th>genre</th>\n",
       "    </tr>\n",
       "  </thead>\n",
       "  <tbody>\n",
       "    <tr>\n",
       "      <th>0</th>\n",
       "      <td>0</td>\n",
       "      <td>LaurentDagenais@rhyta.com</td>\n",
       "      <td>Laurent Dagenais</td>\n",
       "      <td>M</td>\n",
       "    </tr>\n",
       "    <tr>\n",
       "      <th>1</th>\n",
       "      <td>1</td>\n",
       "      <td>GuyMarois@fleckens.hu</td>\n",
       "      <td>Guy Marois</td>\n",
       "      <td>M</td>\n",
       "    </tr>\n",
       "    <tr>\n",
       "      <th>2</th>\n",
       "      <td>2</td>\n",
       "      <td>BeaufortLesage@einrot.com</td>\n",
       "      <td>Beaufort Lesage</td>\n",
       "      <td>M</td>\n",
       "    </tr>\n",
       "    <tr>\n",
       "      <th>3</th>\n",
       "      <td>3</td>\n",
       "      <td>RussellDurand@armyspy.com</td>\n",
       "      <td>Russell Durand</td>\n",
       "      <td>M</td>\n",
       "    </tr>\n",
       "    <tr>\n",
       "      <th>4</th>\n",
       "      <td>4</td>\n",
       "      <td>AlexisRiel@rhyta.com</td>\n",
       "      <td>Alexis Riel</td>\n",
       "      <td>M</td>\n",
       "    </tr>\n",
       "  </tbody>\n",
       "</table>\n",
       "</div>"
      ],
      "text/plain": [
       "   identifiant                      email               nom genre\n",
       "0            0  LaurentDagenais@rhyta.com  Laurent Dagenais     M\n",
       "1            1      GuyMarois@fleckens.hu        Guy Marois     M\n",
       "2            2  BeaufortLesage@einrot.com   Beaufort Lesage     M\n",
       "3            3  RussellDurand@armyspy.com    Russell Durand     M\n",
       "4            4       AlexisRiel@rhyta.com       Alexis Riel     M"
      ]
     },
     "execution_count": 142,
     "metadata": {},
     "output_type": "execute_result"
    }
   ],
   "source": [
    "client_1.head()"
   ]
  },
  {
   "cell_type": "code",
   "execution_count": 144,
   "id": "ceaf5760-96c1-49e7-936b-82a6a921c7e0",
   "metadata": {},
   "outputs": [
    {
     "data": {
      "text/html": [
       "<div>\n",
       "<style scoped>\n",
       "    .dataframe tbody tr th:only-of-type {\n",
       "        vertical-align: middle;\n",
       "    }\n",
       "\n",
       "    .dataframe tbody tr th {\n",
       "        vertical-align: top;\n",
       "    }\n",
       "\n",
       "    .dataframe thead th {\n",
       "        text-align: right;\n",
       "    }\n",
       "</style>\n",
       "<table border=\"1\" class=\"dataframe\">\n",
       "  <thead>\n",
       "    <tr style=\"text-align: right;\">\n",
       "      <th></th>\n",
       "      <th>identifiant</th>\n",
       "      <th>email</th>\n",
       "      <th>nom</th>\n",
       "      <th>genre</th>\n",
       "    </tr>\n",
       "  </thead>\n",
       "  <tbody>\n",
       "    <tr>\n",
       "      <th>0</th>\n",
       "      <td>150</td>\n",
       "      <td>RochMireault@gustr.com</td>\n",
       "      <td>Roch Mireault</td>\n",
       "      <td>M</td>\n",
       "    </tr>\n",
       "    <tr>\n",
       "      <th>1</th>\n",
       "      <td>151</td>\n",
       "      <td>NathalieCormier@cuvox.de</td>\n",
       "      <td>Nathalie Cormier</td>\n",
       "      <td>F</td>\n",
       "    </tr>\n",
       "    <tr>\n",
       "      <th>2</th>\n",
       "      <td>152</td>\n",
       "      <td>VallisMainville@gustr.com</td>\n",
       "      <td>Vallis Mainville</td>\n",
       "      <td>M</td>\n",
       "    </tr>\n",
       "    <tr>\n",
       "      <th>3</th>\n",
       "      <td>153</td>\n",
       "      <td>DanielleNeufville@teleworm.us</td>\n",
       "      <td>Danielle Neufville</td>\n",
       "      <td>F</td>\n",
       "    </tr>\n",
       "    <tr>\n",
       "      <th>4</th>\n",
       "      <td>154</td>\n",
       "      <td>AllyrianeRacine@gustr.com</td>\n",
       "      <td>Allyriane Racine</td>\n",
       "      <td>F</td>\n",
       "    </tr>\n",
       "  </tbody>\n",
       "</table>\n",
       "</div>"
      ],
      "text/plain": [
       "   identifiant                          email                 nom genre\n",
       "0          150         RochMireault@gustr.com       Roch Mireault     M\n",
       "1          151       NathalieCormier@cuvox.de    Nathalie Cormier     F\n",
       "2          152      VallisMainville@gustr.com    Vallis Mainville     M\n",
       "3          153  DanielleNeufville@teleworm.us  Danielle Neufville     F\n",
       "4          154      AllyrianeRacine@gustr.com    Allyriane Racine     F"
      ]
     },
     "execution_count": 144,
     "metadata": {},
     "output_type": "execute_result"
    }
   ],
   "source": [
    "client_2.head()"
   ]
  },
  {
   "cell_type": "code",
   "execution_count": 146,
   "id": "4bd251e7-655a-42b5-9275-645950d340a8",
   "metadata": {},
   "outputs": [],
   "source": [
    "clients = pd.concat([client_1, client_2], ignore_index=True)"
   ]
  },
  {
   "cell_type": "code",
   "execution_count": 148,
   "id": "42f5b317-0fa8-48c2-aca5-3ca8fd8c3718",
   "metadata": {},
   "outputs": [
    {
     "data": {
      "text/html": [
       "<div>\n",
       "<style scoped>\n",
       "    .dataframe tbody tr th:only-of-type {\n",
       "        vertical-align: middle;\n",
       "    }\n",
       "\n",
       "    .dataframe tbody tr th {\n",
       "        vertical-align: top;\n",
       "    }\n",
       "\n",
       "    .dataframe thead th {\n",
       "        text-align: right;\n",
       "    }\n",
       "</style>\n",
       "<table border=\"1\" class=\"dataframe\">\n",
       "  <thead>\n",
       "    <tr style=\"text-align: right;\">\n",
       "      <th></th>\n",
       "      <th>identifiant</th>\n",
       "      <th>email</th>\n",
       "      <th>nom</th>\n",
       "      <th>genre</th>\n",
       "    </tr>\n",
       "  </thead>\n",
       "  <tbody>\n",
       "    <tr>\n",
       "      <th>0</th>\n",
       "      <td>0</td>\n",
       "      <td>LaurentDagenais@rhyta.com</td>\n",
       "      <td>Laurent Dagenais</td>\n",
       "      <td>M</td>\n",
       "    </tr>\n",
       "    <tr>\n",
       "      <th>1</th>\n",
       "      <td>1</td>\n",
       "      <td>GuyMarois@fleckens.hu</td>\n",
       "      <td>Guy Marois</td>\n",
       "      <td>M</td>\n",
       "    </tr>\n",
       "    <tr>\n",
       "      <th>2</th>\n",
       "      <td>2</td>\n",
       "      <td>BeaufortLesage@einrot.com</td>\n",
       "      <td>Beaufort Lesage</td>\n",
       "      <td>M</td>\n",
       "    </tr>\n",
       "    <tr>\n",
       "      <th>3</th>\n",
       "      <td>3</td>\n",
       "      <td>RussellDurand@armyspy.com</td>\n",
       "      <td>Russell Durand</td>\n",
       "      <td>M</td>\n",
       "    </tr>\n",
       "    <tr>\n",
       "      <th>4</th>\n",
       "      <td>4</td>\n",
       "      <td>AlexisRiel@rhyta.com</td>\n",
       "      <td>Alexis Riel</td>\n",
       "      <td>M</td>\n",
       "    </tr>\n",
       "  </tbody>\n",
       "</table>\n",
       "</div>"
      ],
      "text/plain": [
       "   identifiant                      email               nom genre\n",
       "0            0  LaurentDagenais@rhyta.com  Laurent Dagenais     M\n",
       "1            1      GuyMarois@fleckens.hu        Guy Marois     M\n",
       "2            2  BeaufortLesage@einrot.com   Beaufort Lesage     M\n",
       "3            3  RussellDurand@armyspy.com    Russell Durand     M\n",
       "4            4       AlexisRiel@rhyta.com       Alexis Riel     M"
      ]
     },
     "execution_count": 148,
     "metadata": {},
     "output_type": "execute_result"
    }
   ],
   "source": [
    "clients.head()"
   ]
  },
  {
   "cell_type": "code",
   "execution_count": 172,
   "id": "bb041857-bc80-4c37-a04b-d1831a2c939b",
   "metadata": {},
   "outputs": [],
   "source": [
    "data = pd.merge(clients, profil_client, left_on='identifiant', right_on='identifiant', how='inner')"
   ]
  },
  {
   "cell_type": "code",
   "execution_count": 162,
   "id": "cda97175-26d4-4ed1-983f-7da6e5bbcaa2",
   "metadata": {},
   "outputs": [
    {
     "data": {
      "text/html": [
       "<div>\n",
       "<style scoped>\n",
       "    .dataframe tbody tr th:only-of-type {\n",
       "        vertical-align: middle;\n",
       "    }\n",
       "\n",
       "    .dataframe tbody tr th {\n",
       "        vertical-align: top;\n",
       "    }\n",
       "\n",
       "    .dataframe thead th {\n",
       "        text-align: right;\n",
       "    }\n",
       "</style>\n",
       "<table border=\"1\" class=\"dataframe\">\n",
       "  <thead>\n",
       "    <tr style=\"text-align: right;\">\n",
       "      <th></th>\n",
       "      <th>identifiant</th>\n",
       "      <th>age</th>\n",
       "    </tr>\n",
       "  </thead>\n",
       "  <tbody>\n",
       "    <tr>\n",
       "      <th>0</th>\n",
       "      <td>0</td>\n",
       "      <td>54</td>\n",
       "    </tr>\n",
       "    <tr>\n",
       "      <th>1</th>\n",
       "      <td>1</td>\n",
       "      <td>23</td>\n",
       "    </tr>\n",
       "    <tr>\n",
       "      <th>2</th>\n",
       "      <td>2</td>\n",
       "      <td>30</td>\n",
       "    </tr>\n",
       "    <tr>\n",
       "      <th>3</th>\n",
       "      <td>3</td>\n",
       "      <td>42</td>\n",
       "    </tr>\n",
       "    <tr>\n",
       "      <th>4</th>\n",
       "      <td>4</td>\n",
       "      <td>47</td>\n",
       "    </tr>\n",
       "  </tbody>\n",
       "</table>\n",
       "</div>"
      ],
      "text/plain": [
       "   identifiant  age\n",
       "0            0   54\n",
       "1            1   23\n",
       "2            2   30\n",
       "3            3   42\n",
       "4            4   47"
      ]
     },
     "execution_count": 162,
     "metadata": {},
     "output_type": "execute_result"
    }
   ],
   "source": [
    "clients_age = pd.read_csv('client_age.csv')\n",
    "clients_age.head()"
   ]
  },
  {
   "cell_type": "code",
   "execution_count": 168,
   "id": "e4b3ee0a-c8de-4e28-a92d-30208f75fde5",
   "metadata": {},
   "outputs": [
    {
     "data": {
      "text/html": [
       "<div>\n",
       "<style scoped>\n",
       "    .dataframe tbody tr th:only-of-type {\n",
       "        vertical-align: middle;\n",
       "    }\n",
       "\n",
       "    .dataframe tbody tr th {\n",
       "        vertical-align: top;\n",
       "    }\n",
       "\n",
       "    .dataframe thead th {\n",
       "        text-align: right;\n",
       "    }\n",
       "</style>\n",
       "<table border=\"1\" class=\"dataframe\">\n",
       "  <thead>\n",
       "    <tr style=\"text-align: right;\">\n",
       "      <th></th>\n",
       "      <th>identifiant</th>\n",
       "      <th>email</th>\n",
       "      <th>nom</th>\n",
       "      <th>genre</th>\n",
       "      <th>remboursement</th>\n",
       "      <th>taux_endettement</th>\n",
       "      <th>cout_total</th>\n",
       "      <th>benefices</th>\n",
       "      <th>age</th>\n",
       "    </tr>\n",
       "  </thead>\n",
       "  <tbody>\n",
       "    <tr>\n",
       "      <th>0</th>\n",
       "      <td>0</td>\n",
       "      <td>LaurentDagenais@rhyta.com</td>\n",
       "      <td>Laurent Dagenais</td>\n",
       "      <td>M</td>\n",
       "      <td>1130.05</td>\n",
       "      <td>30.80</td>\n",
       "      <td>271212.0</td>\n",
       "      <td>131.99</td>\n",
       "      <td>54.0</td>\n",
       "    </tr>\n",
       "    <tr>\n",
       "      <th>1</th>\n",
       "      <td>1</td>\n",
       "      <td>GuyMarois@fleckens.hu</td>\n",
       "      <td>Guy Marois</td>\n",
       "      <td>M</td>\n",
       "      <td>1487.85</td>\n",
       "      <td>28.02</td>\n",
       "      <td>389715.0</td>\n",
       "      <td>206.66</td>\n",
       "      <td>23.0</td>\n",
       "    </tr>\n",
       "    <tr>\n",
       "      <th>2</th>\n",
       "      <td>2</td>\n",
       "      <td>BeaufortLesage@einrot.com</td>\n",
       "      <td>Beaufort Lesage</td>\n",
       "      <td>M</td>\n",
       "      <td>552.54</td>\n",
       "      <td>29.50</td>\n",
       "      <td>132609.6</td>\n",
       "      <td>53.71</td>\n",
       "      <td>30.0</td>\n",
       "    </tr>\n",
       "    <tr>\n",
       "      <th>3</th>\n",
       "      <td>3</td>\n",
       "      <td>RussellDurand@armyspy.com</td>\n",
       "      <td>Russell Durand</td>\n",
       "      <td>M</td>\n",
       "      <td>586.03</td>\n",
       "      <td>34.80</td>\n",
       "      <td>105485.4</td>\n",
       "      <td>44.57</td>\n",
       "      <td>42.0</td>\n",
       "    </tr>\n",
       "    <tr>\n",
       "      <th>4</th>\n",
       "      <td>4</td>\n",
       "      <td>AlexisRiel@rhyta.com</td>\n",
       "      <td>Alexis Riel</td>\n",
       "      <td>M</td>\n",
       "      <td>423.61</td>\n",
       "      <td>28.70</td>\n",
       "      <td>101666.4</td>\n",
       "      <td>51.21</td>\n",
       "      <td>47.0</td>\n",
       "    </tr>\n",
       "    <tr>\n",
       "      <th>...</th>\n",
       "      <td>...</td>\n",
       "      <td>...</td>\n",
       "      <td>...</td>\n",
       "      <td>...</td>\n",
       "      <td>...</td>\n",
       "      <td>...</td>\n",
       "      <td>...</td>\n",
       "      <td>...</td>\n",
       "      <td>...</td>\n",
       "    </tr>\n",
       "    <tr>\n",
       "      <th>223</th>\n",
       "      <td>223</td>\n",
       "      <td>ClaudeDandonneau@jourrapide.com</td>\n",
       "      <td>Claude Dandonneau</td>\n",
       "      <td>F</td>\n",
       "      <td>672.13</td>\n",
       "      <td>31.60</td>\n",
       "      <td>161311.2</td>\n",
       "      <td>83.95</td>\n",
       "      <td>30.0</td>\n",
       "    </tr>\n",
       "    <tr>\n",
       "      <th>224</th>\n",
       "      <td>224</td>\n",
       "      <td>ApollineMichaud@superrito.com</td>\n",
       "      <td>Apolline Michaud</td>\n",
       "      <td>F</td>\n",
       "      <td>1486.99</td>\n",
       "      <td>29.05</td>\n",
       "      <td>380592.0</td>\n",
       "      <td>196.75</td>\n",
       "      <td>27.0</td>\n",
       "    </tr>\n",
       "    <tr>\n",
       "      <th>225</th>\n",
       "      <td>225</td>\n",
       "      <td>PascalineBeaudry@rhyta.com</td>\n",
       "      <td>Pascaline Beaudry</td>\n",
       "      <td>F</td>\n",
       "      <td>876.43</td>\n",
       "      <td>37.20</td>\n",
       "      <td>157757.4</td>\n",
       "      <td>77.04</td>\n",
       "      <td>29.0</td>\n",
       "    </tr>\n",
       "    <tr>\n",
       "      <th>226</th>\n",
       "      <td>226</td>\n",
       "      <td>FleurCaouette@jourrapide.com</td>\n",
       "      <td>Fleur Caouette</td>\n",
       "      <td>F</td>\n",
       "      <td>2910.96</td>\n",
       "      <td>57.10</td>\n",
       "      <td>698630.4</td>\n",
       "      <td>331.85</td>\n",
       "      <td>26.0</td>\n",
       "    </tr>\n",
       "    <tr>\n",
       "      <th>227</th>\n",
       "      <td>227</td>\n",
       "      <td>FrancisMasse@jourrapide.com</td>\n",
       "      <td>Francis Masse</td>\n",
       "      <td>M</td>\n",
       "      <td>434.38</td>\n",
       "      <td>18.50</td>\n",
       "      <td>130314.0</td>\n",
       "      <td>62.82</td>\n",
       "      <td>27.0</td>\n",
       "    </tr>\n",
       "  </tbody>\n",
       "</table>\n",
       "<p>228 rows × 9 columns</p>\n",
       "</div>"
      ],
      "text/plain": [
       "     identifiant                            email                nom genre  \\\n",
       "0              0        LaurentDagenais@rhyta.com   Laurent Dagenais     M   \n",
       "1              1            GuyMarois@fleckens.hu         Guy Marois     M   \n",
       "2              2        BeaufortLesage@einrot.com    Beaufort Lesage     M   \n",
       "3              3        RussellDurand@armyspy.com     Russell Durand     M   \n",
       "4              4             AlexisRiel@rhyta.com        Alexis Riel     M   \n",
       "..           ...                              ...                ...   ...   \n",
       "223          223  ClaudeDandonneau@jourrapide.com  Claude Dandonneau     F   \n",
       "224          224    ApollineMichaud@superrito.com   Apolline Michaud     F   \n",
       "225          225       PascalineBeaudry@rhyta.com  Pascaline Beaudry     F   \n",
       "226          226     FleurCaouette@jourrapide.com     Fleur Caouette     F   \n",
       "227          227      FrancisMasse@jourrapide.com      Francis Masse     M   \n",
       "\n",
       "     remboursement  taux_endettement  cout_total  benefices   age  \n",
       "0          1130.05             30.80    271212.0     131.99  54.0  \n",
       "1          1487.85             28.02    389715.0     206.66  23.0  \n",
       "2           552.54             29.50    132609.6      53.71  30.0  \n",
       "3           586.03             34.80    105485.4      44.57  42.0  \n",
       "4           423.61             28.70    101666.4      51.21  47.0  \n",
       "..             ...               ...         ...        ...   ...  \n",
       "223         672.13             31.60    161311.2      83.95  30.0  \n",
       "224        1486.99             29.05    380592.0     196.75  27.0  \n",
       "225         876.43             37.20    157757.4      77.04  29.0  \n",
       "226        2910.96             57.10    698630.4     331.85  26.0  \n",
       "227         434.38             18.50    130314.0      62.82  27.0  \n",
       "\n",
       "[228 rows x 9 columns]"
      ]
     },
     "execution_count": 168,
     "metadata": {},
     "output_type": "execute_result"
    }
   ],
   "source": [
    "pd.merge(data, clients_age, on='identifiant', how='left')"
   ]
  },
  {
   "cell_type": "raw",
   "id": "0a43d44e-49de-4c63-8fb7-28f5fd15513c",
   "metadata": {},
   "source": [
    "MATPLOTLIB"
   ]
  },
  {
   "cell_type": "code",
   "execution_count": 184,
   "id": "96b222ba-5210-4780-8834-a8839326a82d",
   "metadata": {},
   "outputs": [],
   "source": [
    "import matplotlib.pyplot as plt"
   ]
  },
  {
   "cell_type": "code",
   "execution_count": 186,
   "id": "515a5193-1a07-4e97-b603-b1fd300e2cb2",
   "metadata": {},
   "outputs": [
    {
     "data": {
      "text/plain": [
       "<matplotlib.collections.PathCollection at 0x7f5afacf17c0>"
      ]
     },
     "execution_count": 186,
     "metadata": {},
     "output_type": "execute_result"
    },
    {
     "data": {
      "image/png": "[encoded data removed]",
      "text/plain": [
       "<Figure size 640x480 with 1 Axes>"
      ]
     },
     "metadata": {},
     "output_type": "display_data"
    }
   ],
   "source": [
    "plt.scatter(prets['revenu'], prets['taux_endettement'])"
   ]
  },
  {
   "cell_type": "code",
   "execution_count": 188,
   "id": "49412258-5615-4751-a2ed-3d6233587b2a",
   "metadata": {},
   "outputs": [
    {
     "data": {
      "text/plain": [
       "([<matplotlib.patches.Wedge at 0x7f5afa3e5df0>,\n",
       "  <matplotlib.patches.Wedge at 0x7f5afbf6a180>,\n",
       "  <matplotlib.patches.Wedge at 0x7f5afa3e66c0>,\n",
       "  <matplotlib.patches.Wedge at 0x7f5afa3e6a20>,\n",
       "  <matplotlib.patches.Wedge at 0x7f5afa3e6cc0>,\n",
       "  <matplotlib.patches.Wedge at 0x7f5afa3e7170>],\n",
       " [Text(1.0735482898052735, 0.2397792098080497, 'BORDEAUX'),\n",
       "  Text(0.7559779933342196, 0.7990602440331811, 'LYON'),\n",
       "  Text(-0.22079479320563614, 1.0776129450286316, 'MARSEILLE'),\n",
       "  Text(-0.9928563505107825, 0.4735359197045252, 'NICE'),\n",
       "  Text(-0.3566773649937175, -1.0405677571889005, 'PARIS'),\n",
       "  Text(1.0582353655336645, -0.30022976390396683, 'TOULOUSE')])"
      ]
     },
     "execution_count": 188,
     "metadata": {},
     "output_type": "execute_result"
    },
    {
     "data": {
      "image/png": "[encoded data removed]",
      "text/plain": [
       "<Figure size 640x480 with 1 Axes>"
      ]
     },
     "metadata": {},
     "output_type": "display_data"
    }
   ],
   "source": [
    "data = prets.groupby('ville')['remboursement'].sum()\n",
    "data = data.reset_index()\n",
    "plt.pie(x=data['remboursement'], labels=data['ville'])"
   ]
  },
  {
   "cell_type": "code",
   "execution_count": 190,
   "id": "e29a818a-ec56-406c-930a-51583c93980d",
   "metadata": {},
   "outputs": [
    {
     "data": {
      "text/plain": [
       "<BarContainer object of 6 artists>"
      ]
     },
     "execution_count": 190,
     "metadata": {},
     "output_type": "execute_result"
    },
    {
     "data": {
      "image/png": "[encoded data removed]",
      "text/plain": [
       "<Figure size 640x480 with 1 Axes>"
      ]
     },
     "metadata": {},
     "output_type": "display_data"
    }
   ],
   "source": [
    "plt.bar(height=data['remboursement'], x=data['ville'])"
   ]
  },
  {
   "cell_type": "code",
   "execution_count": 192,
   "id": "f5a5de03-294e-4421-8d33-133b9ea805f2",
   "metadata": {},
   "outputs": [
    {
     "data": {
      "text/plain": [
       "(array([38., 42., 43., 27., 31., 17., 10., 11., 15., 10.]),\n",
       " array([1200. , 1760.7, 2321.4, 2882.1, 3442.8, 4003.5, 4564.2, 5124.9,\n",
       "        5685.6, 6246.3, 6807. ]),\n",
       " <BarContainer object of 10 artists>)"
      ]
     },
     "execution_count": 192,
     "metadata": {},
     "output_type": "execute_result"
    },
    {
     "data": {
      "image/png": "[encoded data removed]",
      "text/plain": [
       "<Figure size 640x480 with 1 Axes>"
      ]
     },
     "metadata": {},
     "output_type": "display_data"
    }
   ],
   "source": [
    "plt.hist(prets['revenu'])"
   ]
  },
  {
   "cell_type": "code",
   "execution_count": 198,
   "id": "495e0962-07d0-4fe3-b786-0fa9cc078640",
   "metadata": {},
   "outputs": [
    {
     "data": {
      "image/png": "[encoded data removed]",
      "text/plain": [
       "<Figure size 640x480 with 1 Axes>"
      ]
     },
     "metadata": {},
     "output_type": "display_data"
    }
   ],
   "source": [
    "for ville in prets['ville'].unique():\n",
    "    df = prets.loc[prets['ville'] == ville, :]\n",
    "    plt.scatter(df['revenu'], df['taux_interet'], label=ville)\n",
    "plt.legend()\n",
    "plt.show()"
   ]
  },
  {
   "cell_type": "code",
   "execution_count": 204,
   "id": "dce1b9a6-fc22-4fb3-a8c8-8b9ee0dcaefc",
   "metadata": {},
   "outputs": [
    {
     "data": {
      "image/png": "[encoded data removed]",
      "text/plain": [
       "<Figure size 1000x700 with 1 Axes>"
      ]
     },
     "metadata": {},
     "output_type": "display_data"
    }
   ],
   "source": [
    "plt.figure(figsize=(10, 7))\n",
    "plt.bar(height=data['remboursement'], x=data['ville'])\n",
    "plt.ylabel('Chiffre d''affaire net (€)', fontsize=13)\n",
    "plt.yticks([0, 30000, 60000, 90000], fontsize=11)\n",
    "plt.ylim(0, 120000)\n",
    "plt.title(\"Chiffre d'affaire réalisé par agence\", fontsize=14)\n",
    "plt.grid(axis='y', color='gray', linestyle='-', linewidth=0.5)\n",
    "\n",
    "ca=data['remboursement'].tolist()\n",
    "for i in range(6):\n",
    "    plt.text(i-0.2, ca[i]+2000, round(ca[i], 1))\n",
    "\n",
    "plt.show()"
   ]
  },
  {
   "cell_type": "raw",
   "id": "9054f08c-36b0-4a89-994e-5cddf3a50d3c",
   "metadata": {},
   "source": [
    "SEABORN"
   ]
  },
  {
   "cell_type": "code",
   "execution_count": 209,
   "id": "2bf13487-299f-46a1-b9c9-aeddfa4f17ca",
   "metadata": {},
   "outputs": [
    {
     "data": {
      "text/plain": [
       "<Axes: xlabel='revenu', ylabel='taux_endettement'>"
      ]
     },
     "execution_count": 209,
     "metadata": {},
     "output_type": "execute_result"
    },
    {
     "data": {
      "image/png": "[encoded data removed]",
      "text/plain": [
       "<Figure size 640x480 with 1 Axes>"
      ]
     },
     "metadata": {},
     "output_type": "display_data"
    }
   ],
   "source": [
    "import seaborn as sns\n",
    "sns.scatterplot(data=prets, x='revenu', y='taux_endettement', hue='type')"
   ]
  },
  {
   "cell_type": "code",
   "execution_count": 211,
   "id": "c777f2d4-8712-46ee-88f2-55ba4b46aaed",
   "metadata": {},
   "outputs": [
    {
     "data": {
      "image/png": "[encoded data removed]",
      "text/plain": [
       "<Figure size 1000x600 with 1 Axes>"
      ]
     },
     "metadata": {},
     "output_type": "display_data"
    }
   ],
   "source": [
    "plt.figure(figsize=(10,6))\n",
    "\n",
    "plt.rcParams.update({'font.size': 14})\n",
    "\n",
    "sns.scatterplot(data=prets, x='revenu', y='taux_endettement', hue='type')\n",
    "\n",
    "plt.ylabel(\"Taux d'endettement\")\n",
    "\n",
    "plt.xlabel('Revenu mensuel (€)')\n",
    "\n",
    "plt.grid()\n",
    "\n",
    "plt.xlim(500, 7500)\n",
    "\n",
    "plt.legend(bbox_to_anchor=(1, 1.02))\n",
    "\n",
    "plt.title(\"Taux d'endettement en fonction du revenu mensuel\\npar type de prêt contracté\")\n",
    "\n",
    "plt.show()"
   ]
  },
  {
   "cell_type": "code",
   "execution_count": 217,
   "id": "61c371c6-b556-4677-9899-15d4135db475",
   "metadata": {},
   "outputs": [
    {
     "data": {
      "text/plain": [
       "<Axes: xlabel='ville', ylabel='remboursement'>"
      ]
     },
     "execution_count": 217,
     "metadata": {},
     "output_type": "execute_result"
    },
    {
     "data": {
      "image/png": "[encoded data removed]",
      "text/plain": [
       "<Figure size 640x480 with 1 Axes>"
      ]
     },
     "metadata": {},
     "output_type": "display_data"
    }
   ],
   "source": [
    "sns.set_theme()\n",
    "sns.barplot(data=prets, x='ville', y='remboursement', errorbar=None, estimator=np.mean, hue='type')"
   ]
  },
  {
   "cell_type": "code",
   "execution_count": 219,
   "id": "6124245d-47b1-4880-8e48-17080d8cad58",
   "metadata": {},
   "outputs": [
    {
     "data": {
      "image/png": "[encoded data removed]",
      "text/plain": [
       "<Figure size 640x480 with 1 Axes>"
      ]
     },
     "metadata": {},
     "output_type": "display_data"
    }
   ],
   "source": [
    "sns.countplot(data=prets, x='type')\n",
    "plt.show()"
   ]
  },
  {
   "cell_type": "code",
   "execution_count": 221,
   "id": "d74c290a-5524-44c5-be5c-713bacbf118d",
   "metadata": {},
   "outputs": [
    {
     "data": {
      "image/png": "[encoded data removed]",
      "text/plain": [
       "<Figure size 640x480 with 1 Axes>"
      ]
     },
     "metadata": {},
     "output_type": "display_data"
    }
   ],
   "source": [
    "sns.scatterplot(data=prets, x='revenu', y='benefices', hue='ville')\n",
    "plt.show()"
   ]
  },
  {
   "cell_type": "code",
   "execution_count": 225,
   "id": "1484b30c-15ee-4a7d-9877-138297fa2114",
   "metadata": {},
   "outputs": [
    {
     "data": {
      "image/png": "[encoded data removed]",
      "text/plain": [
       "<Figure size 640x480 with 1 Axes>"
      ]
     },
     "metadata": {},
     "output_type": "display_data"
    }
   ],
   "source": [
    "sns.barplot(data=prets, x='ville', y='benefices', errorbar=None, hue='type', estimator=sum)\n",
    "plt.show()"
   ]
  },
  {
   "cell_type": "code",
   "execution_count": 227,
   "id": "350ee686-ddc4-4778-9dcf-fb1bc76a8dbc",
   "metadata": {},
   "outputs": [
    {
     "data": {
      "image/png": "[encoded data removed]",
      "text/plain": [
       "<Figure size 640x480 with 1 Axes>"
      ]
     },
     "metadata": {},
     "output_type": "display_data"
    },
    {
     "data": {
      "image/png": "[encoded data removed]",
      "text/plain": [
       "<Figure size 640x480 with 1 Axes>"
      ]
     },
     "metadata": {},
     "output_type": "display_data"
    }
   ],
   "source": [
    "# histogramme :\n",
    "sns.histplot(data=prets, x='benefices')\n",
    "plt.show()\n",
    "\n",
    "# diagramme à densité :\n",
    "sns.kdeplot(data=prets, x='benefices')\n",
    "plt.show()"
   ]
  },
  {
   "cell_type": "code",
   "execution_count": 229,
   "id": "8e6c657f-a63b-46f0-8f75-f276844485c4",
   "metadata": {},
   "outputs": [
    {
     "data": {
      "text/plain": [
       "<Axes: xlabel='ville', ylabel='benefices'>"
      ]
     },
     "execution_count": 229,
     "metadata": {},
     "output_type": "execute_result"
    },
    {
     "data": {
      "image/png": "[encoded data removed]",
      "text/plain": [
       "<Figure size 640x480 with 1 Axes>"
      ]
     },
     "metadata": {},
     "output_type": "display_data"
    }
   ],
   "source": [
    "# Filtrer pour exclure les lignes où le type est 'automobile'\n",
    "prets_filtre = prets[prets['type'] != 'automobile']\n",
    "\n",
    "# Créer le graphique avec le DataFrame filtré\n",
    "sns.barplot(data=prets_filtre, x='ville', y='benefices', errorbar=None, hue='type', estimator=sum)"
   ]
  },
  {
   "cell_type": "code",
   "execution_count": null,
   "id": "f88727c9-be6f-4c3e-86d1-b148c87c8b97",
   "metadata": {},
   "outputs": [],
   "source": []
  }
 ],
 "metadata": {
  "kernelspec": {
   "display_name": "Python 3 (ipykernel)",
   "language": "python",
   "name": "python3"
  },
  "language_info": {
   "codemirror_mode": {
    "name": "ipython",
    "version": 3
   },
   "file_extension": ".py",
   "mimetype": "text/x-python",
   "name": "python",
   "nbconvert_exporter": "python",
   "pygments_lexer": "ipython3",
   "version": "3.12.4"
  }
 },
 "nbformat": 4,
 "nbformat_minor": 5
}
